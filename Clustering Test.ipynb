{
 "cells": [
  {
   "cell_type": "code",
   "execution_count": 35,
   "id": "32033af3",
   "metadata": {
    "ExecuteTime": {
     "end_time": "2022-11-28T14:16:42.540885Z",
     "start_time": "2022-11-28T14:16:42.523775Z"
    }
   },
   "outputs": [],
   "source": [
    "import pandas as pd\n",
    "import numpy as np\n",
    "\n",
    "from matplotlib import pyplot as plt"
   ]
  },
  {
   "cell_type": "markdown",
   "id": "e39dbf37",
   "metadata": {},
   "source": [
    "## Import Data"
   ]
  },
  {
   "cell_type": "code",
   "execution_count": 2,
   "id": "08aee329",
   "metadata": {
    "ExecuteTime": {
     "end_time": "2022-11-28T13:41:14.094453Z",
     "start_time": "2022-11-28T13:41:14.034192Z"
    }
   },
   "outputs": [
    {
     "data": {
      "text/html": [
       "<div>\n",
       "<style scoped>\n",
       "    .dataframe tbody tr th:only-of-type {\n",
       "        vertical-align: middle;\n",
       "    }\n",
       "\n",
       "    .dataframe tbody tr th {\n",
       "        vertical-align: top;\n",
       "    }\n",
       "\n",
       "    .dataframe thead th {\n",
       "        text-align: right;\n",
       "    }\n",
       "</style>\n",
       "<table border=\"1\" class=\"dataframe\">\n",
       "  <thead>\n",
       "    <tr style=\"text-align: right;\">\n",
       "      <th></th>\n",
       "      <th>Name</th>\n",
       "      <th>Address</th>\n",
       "      <th>Author</th>\n",
       "      <th>Price</th>\n",
       "      <th>Bedrooms</th>\n",
       "      <th>Showers</th>\n",
       "      <th>Parking</th>\n",
       "      <th>Furnish</th>\n",
       "      <th>Total Developed</th>\n",
       "      <th>Features</th>\n",
       "      <th>...</th>\n",
       "      <th>Nearby Places</th>\n",
       "      <th>URL</th>\n",
       "      <th>Timestamp</th>\n",
       "      <th>City</th>\n",
       "      <th>Region</th>\n",
       "      <th>Island</th>\n",
       "      <th>Type</th>\n",
       "      <th>NFeatures</th>\n",
       "      <th>NFacilities</th>\n",
       "      <th>NNearby Places</th>\n",
       "    </tr>\n",
       "  </thead>\n",
       "  <tbody>\n",
       "    <tr>\n",
       "      <th>0</th>\n",
       "      <td>3 BR Condo in The Grand Midori Ortigas, Pasig</td>\n",
       "      <td></td>\n",
       "      <td>Federal Land, Inc.</td>\n",
       "      <td>29700000</td>\n",
       "      <td>3</td>\n",
       "      <td>3.0</td>\n",
       "      <td>2</td>\n",
       "      <td>0</td>\n",
       "      <td>107.0</td>\n",
       "      <td>[Ensuite, Range Hood, Stove/Burner]</td>\n",
       "      <td>...</td>\n",
       "      <td>[School, Hospital]</td>\n",
       "      <td>https://propertyaccess.ph/property/3-br-condo-...</td>\n",
       "      <td>2022-10-23</td>\n",
       "      <td>Pasig</td>\n",
       "      <td>National Capital Region</td>\n",
       "      <td>Luzon</td>\n",
       "      <td>Condo</td>\n",
       "      <td>3</td>\n",
       "      <td>11</td>\n",
       "      <td>2</td>\n",
       "    </tr>\n",
       "    <tr>\n",
       "      <th>1</th>\n",
       "      <td>1 Bedroom Condo in The Grand Midori Ortigas, P...</td>\n",
       "      <td></td>\n",
       "      <td>Federal Land, Inc.</td>\n",
       "      <td>10200000</td>\n",
       "      <td>1</td>\n",
       "      <td>1.0</td>\n",
       "      <td>0</td>\n",
       "      <td>0</td>\n",
       "      <td>46.0</td>\n",
       "      <td>[Fiber ready]</td>\n",
       "      <td>...</td>\n",
       "      <td>[School, Hospital]</td>\n",
       "      <td>https://propertyaccess.ph/property/1br-condo-i...</td>\n",
       "      <td>2022-10-23</td>\n",
       "      <td>Pasig</td>\n",
       "      <td>National Capital Region</td>\n",
       "      <td>Luzon</td>\n",
       "      <td>Condo</td>\n",
       "      <td>1</td>\n",
       "      <td>11</td>\n",
       "      <td>2</td>\n",
       "    </tr>\n",
       "    <tr>\n",
       "      <th>2</th>\n",
       "      <td>3 Bedroom Condo in Aurelia Residences, Taguig</td>\n",
       "      <td>McKinley Parkway, Taguig, Metro Manila</td>\n",
       "      <td>Shang Properties</td>\n",
       "      <td>107300000</td>\n",
       "      <td>3</td>\n",
       "      <td>4.0</td>\n",
       "      <td>2</td>\n",
       "      <td>0</td>\n",
       "      <td>242.0</td>\n",
       "      <td>[Central air conditioning, Balcony, Built-in w...</td>\n",
       "      <td>...</td>\n",
       "      <td>[School, Hospital, Mall, Transportation hub]</td>\n",
       "      <td>https://propertyaccess.ph/property/3-bedroom-c...</td>\n",
       "      <td>2022-10-23</td>\n",
       "      <td>Taguig</td>\n",
       "      <td>National Capital Region</td>\n",
       "      <td>Luzon</td>\n",
       "      <td>Condo</td>\n",
       "      <td>10</td>\n",
       "      <td>15</td>\n",
       "      <td>4</td>\n",
       "    </tr>\n",
       "    <tr>\n",
       "      <th>3</th>\n",
       "      <td>3 Bedroom Condo in Shang Residences at Wack Wa...</td>\n",
       "      <td>Wack Wack Road, Mandaluyong, Metro Manila</td>\n",
       "      <td>Shang Properties</td>\n",
       "      <td>54500000</td>\n",
       "      <td>3</td>\n",
       "      <td>4.0</td>\n",
       "      <td>3</td>\n",
       "      <td>0</td>\n",
       "      <td>231.0</td>\n",
       "      <td>[Central air conditioning, Balcony, Built-in w...</td>\n",
       "      <td>...</td>\n",
       "      <td>[School, Hospital, Mall, Transportation hub]</td>\n",
       "      <td>https://propertyaccess.ph/property/3-bedroom-c...</td>\n",
       "      <td>2022-10-23</td>\n",
       "      <td>Mandaluyong</td>\n",
       "      <td>National Capital Region</td>\n",
       "      <td>Luzon</td>\n",
       "      <td>Condo</td>\n",
       "      <td>9</td>\n",
       "      <td>16</td>\n",
       "      <td>4</td>\n",
       "    </tr>\n",
       "    <tr>\n",
       "      <th>4</th>\n",
       "      <td>2BR Condo in Residences at The Galleon, Pasig</td>\n",
       "      <td></td>\n",
       "      <td>Ortigas Land</td>\n",
       "      <td>41500000</td>\n",
       "      <td>2</td>\n",
       "      <td>2.0</td>\n",
       "      <td>2</td>\n",
       "      <td>0</td>\n",
       "      <td>109.0</td>\n",
       "      <td>[Central air conditioning, Balcony, Built-in w...</td>\n",
       "      <td>...</td>\n",
       "      <td>[School, Hospital, Mall, Transportation hub]</td>\n",
       "      <td>https://propertyaccess.ph/property/2br-condo-i...</td>\n",
       "      <td>2022-10-23</td>\n",
       "      <td>Pasig</td>\n",
       "      <td>National Capital Region</td>\n",
       "      <td>Luzon</td>\n",
       "      <td>Condo</td>\n",
       "      <td>7</td>\n",
       "      <td>14</td>\n",
       "      <td>4</td>\n",
       "    </tr>\n",
       "  </tbody>\n",
       "</table>\n",
       "<p>5 rows × 21 columns</p>\n",
       "</div>"
      ],
      "text/plain": [
       "                                                Name  \\\n",
       "0      3 BR Condo in The Grand Midori Ortigas, Pasig   \n",
       "1  1 Bedroom Condo in The Grand Midori Ortigas, P...   \n",
       "2      3 Bedroom Condo in Aurelia Residences, Taguig   \n",
       "3  3 Bedroom Condo in Shang Residences at Wack Wa...   \n",
       "4      2BR Condo in Residences at The Galleon, Pasig   \n",
       "\n",
       "                                     Address              Author      Price  \\\n",
       "0                                             Federal Land, Inc.   29700000   \n",
       "1                                             Federal Land, Inc.   10200000   \n",
       "2     McKinley Parkway, Taguig, Metro Manila    Shang Properties  107300000   \n",
       "3  Wack Wack Road, Mandaluyong, Metro Manila    Shang Properties   54500000   \n",
       "4                                                   Ortigas Land   41500000   \n",
       "\n",
       "   Bedrooms  Showers  Parking  Furnish  Total Developed  \\\n",
       "0         3      3.0        2        0            107.0   \n",
       "1         1      1.0        0        0             46.0   \n",
       "2         3      4.0        2        0            242.0   \n",
       "3         3      4.0        3        0            231.0   \n",
       "4         2      2.0        2        0            109.0   \n",
       "\n",
       "                                            Features  ...  \\\n",
       "0                [Ensuite, Range Hood, Stove/Burner]  ...   \n",
       "1                                      [Fiber ready]  ...   \n",
       "2  [Central air conditioning, Balcony, Built-in w...  ...   \n",
       "3  [Central air conditioning, Balcony, Built-in w...  ...   \n",
       "4  [Central air conditioning, Balcony, Built-in w...  ...   \n",
       "\n",
       "                                  Nearby Places  \\\n",
       "0                            [School, Hospital]   \n",
       "1                            [School, Hospital]   \n",
       "2  [School, Hospital, Mall, Transportation hub]   \n",
       "3  [School, Hospital, Mall, Transportation hub]   \n",
       "4  [School, Hospital, Mall, Transportation hub]   \n",
       "\n",
       "                                                 URL  Timestamp         City  \\\n",
       "0  https://propertyaccess.ph/property/3-br-condo-... 2022-10-23        Pasig   \n",
       "1  https://propertyaccess.ph/property/1br-condo-i... 2022-10-23        Pasig   \n",
       "2  https://propertyaccess.ph/property/3-bedroom-c... 2022-10-23       Taguig   \n",
       "3  https://propertyaccess.ph/property/3-bedroom-c... 2022-10-23  Mandaluyong   \n",
       "4  https://propertyaccess.ph/property/2br-condo-i... 2022-10-23        Pasig   \n",
       "\n",
       "                    Region Island   Type NFeatures  NFacilities  \\\n",
       "0  National Capital Region  Luzon  Condo         3           11   \n",
       "1  National Capital Region  Luzon  Condo         1           11   \n",
       "2  National Capital Region  Luzon  Condo        10           15   \n",
       "3  National Capital Region  Luzon  Condo         9           16   \n",
       "4  National Capital Region  Luzon  Condo         7           14   \n",
       "\n",
       "   NNearby Places  \n",
       "0               2  \n",
       "1               2  \n",
       "2               4  \n",
       "3               4  \n",
       "4               4  \n",
       "\n",
       "[5 rows x 21 columns]"
      ]
     },
     "execution_count": 2,
     "metadata": {},
     "output_type": "execute_result"
    }
   ],
   "source": [
    "df = pd.read_json('cleaned_data.json')\n",
    "df.head()"
   ]
  },
  {
   "cell_type": "code",
   "execution_count": 3,
   "id": "712f5a48",
   "metadata": {
    "ExecuteTime": {
     "end_time": "2022-11-28T13:41:14.109581Z",
     "start_time": "2022-11-28T13:41:14.095438Z"
    }
   },
   "outputs": [
    {
     "name": "stdout",
     "output_type": "stream",
     "text": [
      "<class 'pandas.core.frame.DataFrame'>\n",
      "Int64Index: 2269 entries, 0 to 2490\n",
      "Data columns (total 21 columns):\n",
      " #   Column           Non-Null Count  Dtype         \n",
      "---  ------           --------------  -----         \n",
      " 0   Name             2269 non-null   object        \n",
      " 1   Address          2269 non-null   object        \n",
      " 2   Author           2269 non-null   object        \n",
      " 3   Price            2269 non-null   int64         \n",
      " 4   Bedrooms         2269 non-null   int64         \n",
      " 5   Showers          2269 non-null   float64       \n",
      " 6   Parking          2269 non-null   int64         \n",
      " 7   Furnish          2269 non-null   int64         \n",
      " 8   Total Developed  2269 non-null   float64       \n",
      " 9   Features         2269 non-null   object        \n",
      " 10  Facilities       2269 non-null   object        \n",
      " 11  Nearby Places    2269 non-null   object        \n",
      " 12  URL              2269 non-null   object        \n",
      " 13  Timestamp        2269 non-null   datetime64[ns]\n",
      " 14  City             2269 non-null   object        \n",
      " 15  Region           2269 non-null   object        \n",
      " 16  Island           2269 non-null   object        \n",
      " 17  Type             2269 non-null   object        \n",
      " 18  NFeatures        2269 non-null   int64         \n",
      " 19  NFacilities      2269 non-null   int64         \n",
      " 20  NNearby Places   2269 non-null   int64         \n",
      "dtypes: datetime64[ns](1), float64(2), int64(7), object(11)\n",
      "memory usage: 390.0+ KB\n"
     ]
    }
   ],
   "source": [
    "df.info()"
   ]
  },
  {
   "cell_type": "code",
   "execution_count": 31,
   "id": "24468692",
   "metadata": {
    "ExecuteTime": {
     "end_time": "2022-11-28T14:16:11.366944Z",
     "start_time": "2022-11-28T14:16:11.356870Z"
    }
   },
   "outputs": [],
   "source": [
    "# data to be used for clustering\n",
    "data = df[['Price', 'Bedrooms', 'Showers', 'Parking', 'Total Developed']]"
   ]
  },
  {
   "cell_type": "markdown",
   "id": "1820f8fd",
   "metadata": {},
   "source": [
    "## Affinity Propagration\n",
    "https://machinelearningmastery.com/clustering-algorithms-with-python/"
   ]
  },
  {
   "cell_type": "code",
   "execution_count": 16,
   "id": "f284a53c",
   "metadata": {
    "ExecuteTime": {
     "end_time": "2022-11-28T13:41:18.846380Z",
     "start_time": "2022-11-28T13:41:15.692658Z"
    }
   },
   "outputs": [],
   "source": [
    "from sklearn.cluster import AffinityPropagation"
   ]
  },
  {
   "cell_type": "code",
   "execution_count": 6,
   "id": "2558e52c",
   "metadata": {
    "ExecuteTime": {
     "end_time": "2022-11-07T13:56:10.278899Z",
     "start_time": "2022-11-07T13:56:10.262930Z"
    }
   },
   "outputs": [],
   "source": [
    "model = AffinityPropagation(damping=0.9)"
   ]
  },
  {
   "cell_type": "code",
   "execution_count": 26,
   "id": "08bf971a",
   "metadata": {
    "ExecuteTime": {
     "end_time": "2022-11-07T14:03:24.939589Z",
     "start_time": "2022-11-07T14:03:23.512609Z"
    }
   },
   "outputs": [
    {
     "data": {
      "text/plain": [
       "AffinityPropagation(damping=0.9)"
      ]
     },
     "execution_count": 26,
     "metadata": {},
     "output_type": "execute_result"
    }
   ],
   "source": [
    "# fit the model\n",
    "model.fit(data)"
   ]
  },
  {
   "cell_type": "code",
   "execution_count": 27,
   "id": "04b19699",
   "metadata": {
    "ExecuteTime": {
     "end_time": "2022-11-07T14:03:24.955217Z",
     "start_time": "2022-11-07T14:03:24.939589Z"
    }
   },
   "outputs": [
    {
     "data": {
      "text/plain": [
       "array([0, 1], dtype=int64)"
      ]
     },
     "execution_count": 27,
     "metadata": {},
     "output_type": "execute_result"
    }
   ],
   "source": [
    "# assign a cluster to each example\n",
    "yhat = model.predict(data)\n",
    "\n",
    "# retrieve unique clusters\n",
    "clusters = np.unique(yhat)\n",
    "\n",
    "clusters"
   ]
  },
  {
   "cell_type": "code",
   "execution_count": 28,
   "id": "b1d18f67",
   "metadata": {
    "ExecuteTime": {
     "end_time": "2022-11-07T14:03:24.970840Z",
     "start_time": "2022-11-07T14:03:24.955217Z"
    }
   },
   "outputs": [
    {
     "data": {
      "text/html": [
       "<div>\n",
       "<style scoped>\n",
       "    .dataframe tbody tr th:only-of-type {\n",
       "        vertical-align: middle;\n",
       "    }\n",
       "\n",
       "    .dataframe tbody tr th {\n",
       "        vertical-align: top;\n",
       "    }\n",
       "\n",
       "    .dataframe thead th {\n",
       "        text-align: right;\n",
       "    }\n",
       "</style>\n",
       "<table border=\"1\" class=\"dataframe\">\n",
       "  <thead>\n",
       "    <tr style=\"text-align: right;\">\n",
       "      <th></th>\n",
       "      <th>Price</th>\n",
       "      <th>Bedrooms</th>\n",
       "      <th>Showers</th>\n",
       "      <th>Parking</th>\n",
       "      <th>Total Developed</th>\n",
       "    </tr>\n",
       "  </thead>\n",
       "  <tbody>\n",
       "    <tr>\n",
       "      <th>count</th>\n",
       "      <td>2.241000e+03</td>\n",
       "      <td>2241.000000</td>\n",
       "      <td>2241.000000</td>\n",
       "      <td>2241.000000</td>\n",
       "      <td>2241.000000</td>\n",
       "    </tr>\n",
       "    <tr>\n",
       "      <th>mean</th>\n",
       "      <td>2.415990e+07</td>\n",
       "      <td>2.567604</td>\n",
       "      <td>2.247434</td>\n",
       "      <td>1.182062</td>\n",
       "      <td>174.906778</td>\n",
       "    </tr>\n",
       "    <tr>\n",
       "      <th>std</th>\n",
       "      <td>3.100183e+07</td>\n",
       "      <td>1.513630</td>\n",
       "      <td>1.315014</td>\n",
       "      <td>1.243145</td>\n",
       "      <td>291.526980</td>\n",
       "    </tr>\n",
       "    <tr>\n",
       "      <th>min</th>\n",
       "      <td>1.400000e+04</td>\n",
       "      <td>1.000000</td>\n",
       "      <td>1.000000</td>\n",
       "      <td>0.000000</td>\n",
       "      <td>15.000000</td>\n",
       "    </tr>\n",
       "    <tr>\n",
       "      <th>25%</th>\n",
       "      <td>6.325000e+06</td>\n",
       "      <td>1.000000</td>\n",
       "      <td>1.000000</td>\n",
       "      <td>0.000000</td>\n",
       "      <td>41.000000</td>\n",
       "    </tr>\n",
       "    <tr>\n",
       "      <th>50%</th>\n",
       "      <td>1.250000e+07</td>\n",
       "      <td>2.000000</td>\n",
       "      <td>2.000000</td>\n",
       "      <td>1.000000</td>\n",
       "      <td>83.000000</td>\n",
       "    </tr>\n",
       "    <tr>\n",
       "      <th>75%</th>\n",
       "      <td>2.850000e+07</td>\n",
       "      <td>4.000000</td>\n",
       "      <td>3.000000</td>\n",
       "      <td>2.000000</td>\n",
       "      <td>224.320000</td>\n",
       "    </tr>\n",
       "    <tr>\n",
       "      <th>max</th>\n",
       "      <td>1.980000e+08</td>\n",
       "      <td>10.000000</td>\n",
       "      <td>5.000000</td>\n",
       "      <td>6.000000</td>\n",
       "      <td>7440.000000</td>\n",
       "    </tr>\n",
       "  </tbody>\n",
       "</table>\n",
       "</div>"
      ],
      "text/plain": [
       "              Price     Bedrooms      Showers      Parking  Total Developed\n",
       "count  2.241000e+03  2241.000000  2241.000000  2241.000000      2241.000000\n",
       "mean   2.415990e+07     2.567604     2.247434     1.182062       174.906778\n",
       "std    3.100183e+07     1.513630     1.315014     1.243145       291.526980\n",
       "min    1.400000e+04     1.000000     1.000000     0.000000        15.000000\n",
       "25%    6.325000e+06     1.000000     1.000000     0.000000        41.000000\n",
       "50%    1.250000e+07     2.000000     2.000000     1.000000        83.000000\n",
       "75%    2.850000e+07     4.000000     3.000000     2.000000       224.320000\n",
       "max    1.980000e+08    10.000000     5.000000     6.000000      7440.000000"
      ]
     },
     "execution_count": 28,
     "metadata": {},
     "output_type": "execute_result"
    }
   ],
   "source": [
    "data[yhat == 1].describe()"
   ]
  },
  {
   "cell_type": "code",
   "execution_count": 29,
   "id": "0b1bef75",
   "metadata": {
    "ExecuteTime": {
     "end_time": "2022-11-07T14:03:24.986862Z",
     "start_time": "2022-11-07T14:03:24.970840Z"
    },
    "scrolled": true
   },
   "outputs": [
    {
     "data": {
      "text/html": [
       "<div>\n",
       "<style scoped>\n",
       "    .dataframe tbody tr th:only-of-type {\n",
       "        vertical-align: middle;\n",
       "    }\n",
       "\n",
       "    .dataframe tbody tr th {\n",
       "        vertical-align: top;\n",
       "    }\n",
       "\n",
       "    .dataframe thead th {\n",
       "        text-align: right;\n",
       "    }\n",
       "</style>\n",
       "<table border=\"1\" class=\"dataframe\">\n",
       "  <thead>\n",
       "    <tr style=\"text-align: right;\">\n",
       "      <th></th>\n",
       "      <th>Price</th>\n",
       "      <th>Bedrooms</th>\n",
       "      <th>Showers</th>\n",
       "      <th>Parking</th>\n",
       "      <th>Total Developed</th>\n",
       "    </tr>\n",
       "  </thead>\n",
       "  <tbody>\n",
       "    <tr>\n",
       "      <th>count</th>\n",
       "      <td>2.800000e+01</td>\n",
       "      <td>28.000000</td>\n",
       "      <td>28.000000</td>\n",
       "      <td>28.000000</td>\n",
       "      <td>28.000000</td>\n",
       "    </tr>\n",
       "    <tr>\n",
       "      <th>mean</th>\n",
       "      <td>2.644214e+08</td>\n",
       "      <td>4.607143</td>\n",
       "      <td>4.214286</td>\n",
       "      <td>3.428571</td>\n",
       "      <td>956.678571</td>\n",
       "    </tr>\n",
       "    <tr>\n",
       "      <th>std</th>\n",
       "      <td>5.813546e+07</td>\n",
       "      <td>1.448864</td>\n",
       "      <td>0.994695</td>\n",
       "      <td>1.136224</td>\n",
       "      <td>883.138052</td>\n",
       "    </tr>\n",
       "    <tr>\n",
       "      <th>min</th>\n",
       "      <td>2.000000e+08</td>\n",
       "      <td>1.000000</td>\n",
       "      <td>1.000000</td>\n",
       "      <td>0.000000</td>\n",
       "      <td>107.000000</td>\n",
       "    </tr>\n",
       "    <tr>\n",
       "      <th>25%</th>\n",
       "      <td>2.200000e+08</td>\n",
       "      <td>4.000000</td>\n",
       "      <td>4.000000</td>\n",
       "      <td>3.000000</td>\n",
       "      <td>483.000000</td>\n",
       "    </tr>\n",
       "    <tr>\n",
       "      <th>50%</th>\n",
       "      <td>2.500000e+08</td>\n",
       "      <td>4.000000</td>\n",
       "      <td>4.500000</td>\n",
       "      <td>4.000000</td>\n",
       "      <td>802.500000</td>\n",
       "    </tr>\n",
       "    <tr>\n",
       "      <th>75%</th>\n",
       "      <td>2.883250e+08</td>\n",
       "      <td>5.250000</td>\n",
       "      <td>5.000000</td>\n",
       "      <td>4.000000</td>\n",
       "      <td>1200.000000</td>\n",
       "    </tr>\n",
       "    <tr>\n",
       "      <th>max</th>\n",
       "      <td>4.000000e+08</td>\n",
       "      <td>7.000000</td>\n",
       "      <td>5.000000</td>\n",
       "      <td>4.000000</td>\n",
       "      <td>5117.000000</td>\n",
       "    </tr>\n",
       "  </tbody>\n",
       "</table>\n",
       "</div>"
      ],
      "text/plain": [
       "              Price   Bedrooms    Showers    Parking  Total Developed\n",
       "count  2.800000e+01  28.000000  28.000000  28.000000        28.000000\n",
       "mean   2.644214e+08   4.607143   4.214286   3.428571       956.678571\n",
       "std    5.813546e+07   1.448864   0.994695   1.136224       883.138052\n",
       "min    2.000000e+08   1.000000   1.000000   0.000000       107.000000\n",
       "25%    2.200000e+08   4.000000   4.000000   3.000000       483.000000\n",
       "50%    2.500000e+08   4.000000   4.500000   4.000000       802.500000\n",
       "75%    2.883250e+08   5.250000   5.000000   4.000000      1200.000000\n",
       "max    4.000000e+08   7.000000   5.000000   4.000000      5117.000000"
      ]
     },
     "execution_count": 29,
     "metadata": {},
     "output_type": "execute_result"
    }
   ],
   "source": [
    "data[yhat == 0].describe()"
   ]
  },
  {
   "cell_type": "markdown",
   "id": "334cd7bb",
   "metadata": {},
   "source": [
    "Has 2 clusters, clusters are seperated mainly based on the price and total developed."
   ]
  },
  {
   "cell_type": "code",
   "execution_count": 40,
   "id": "4c969194",
   "metadata": {
    "ExecuteTime": {
     "end_time": "2022-11-07T14:07:50.951038Z",
     "start_time": "2022-11-07T14:07:50.867036Z"
    }
   },
   "outputs": [
    {
     "data": {
      "image/png": "[encoded data removed]",
      "text/plain": [
       "<Figure size 432x288 with 1 Axes>"
      ]
     },
     "metadata": {
      "needs_background": "light"
     },
     "output_type": "display_data"
    }
   ],
   "source": [
    "# create scatter plot for samples from each cluster\n",
    "for cluster in clusters:\n",
    "    # get rows that exists in each cluster\n",
    "    row = data[yhat == cluster]\n",
    "    # create scatter of these samples\n",
    "    plt.scatter(row['Price'], row['Total Developed'])\n",
    "# show the plot\n",
    "plt.show()"
   ]
  },
  {
   "cell_type": "markdown",
   "id": "462cd1cb",
   "metadata": {},
   "source": [
    "## DBSCAN\n",
    "https://machinelearningmastery.com/clustering-algorithms-with-python/"
   ]
  },
  {
   "cell_type": "code",
   "execution_count": 29,
   "id": "942b3cdd",
   "metadata": {
    "ExecuteTime": {
     "end_time": "2022-11-28T14:15:49.926465Z",
     "start_time": "2022-11-28T14:15:49.923464Z"
    }
   },
   "outputs": [],
   "source": [
    "from sklearn.cluster import DBSCAN"
   ]
  },
  {
   "cell_type": "code",
   "execution_count": 30,
   "id": "267ba550",
   "metadata": {
    "ExecuteTime": {
     "end_time": "2022-11-28T14:15:50.110250Z",
     "start_time": "2022-11-28T14:15:50.104101Z"
    }
   },
   "outputs": [],
   "source": [
    "model = DBSCAN(eps=0.30, min_samples=9)"
   ]
  },
  {
   "cell_type": "code",
   "execution_count": 42,
   "id": "986795c9",
   "metadata": {
    "ExecuteTime": {
     "end_time": "2022-11-28T14:17:39.914967Z",
     "start_time": "2022-11-28T14:17:39.889738Z"
    }
   },
   "outputs": [],
   "source": [
    "yhat = model.fit_predict(data)"
   ]
  },
  {
   "cell_type": "code",
   "execution_count": 40,
   "id": "e8c2a827",
   "metadata": {
    "ExecuteTime": {
     "end_time": "2022-11-28T14:17:25.804008Z",
     "start_time": "2022-11-28T14:17:25.667516Z"
    }
   },
   "outputs": [
    {
     "data": {
      "image/png": "[encoded data removed]",
      "text/plain": [
       "<Figure size 432x288 with 1 Axes>"
      ]
     },
     "metadata": {
      "needs_background": "light"
     },
     "output_type": "display_data"
    }
   ],
   "source": [
    "clusters = np.unique(yhat)\n",
    "# create scatter plot for samples from each cluster\n",
    "for cluster in clusters:\n",
    "    # get rows that exists in each cluster\n",
    "    row = data[yhat == cluster]\n",
    "    # create scatter of these samples\n",
    "    plt.scatter(row['Price'], row['Total Developed'])\n",
    "# show the plot\n",
    "plt.show()"
   ]
  },
  {
   "cell_type": "markdown",
   "id": "dcacb234",
   "metadata": {},
   "source": [
    "## OPTICS\n",
    "https://machinelearningmastery.com/clustering-algorithms-with-python/"
   ]
  },
  {
   "cell_type": "code",
   "execution_count": 60,
   "id": "f7632fab",
   "metadata": {
    "ExecuteTime": {
     "end_time": "2022-11-28T14:22:12.910503Z",
     "start_time": "2022-11-28T14:22:10.212648Z"
    }
   },
   "outputs": [
    {
     "name": "stderr",
     "output_type": "stream",
     "text": [
      "C:\\users\\chris\\appdata\\local\\programs\\python\\python38\\lib\\site-packages\\sklearn\\cluster\\_optics.py:903: RuntimeWarning: divide by zero encountered in true_divide\n",
      "  ratio = reachability_plot[:-1] / reachability_plot[1:]\n"
     ]
    },
    {
     "data": {
      "image/png": "[encoded data removed]",
      "text/plain": [
       "<Figure size 432x288 with 1 Axes>"
      ]
     },
     "metadata": {
      "needs_background": "light"
     },
     "output_type": "display_data"
    }
   ],
   "source": [
    "from sklearn.cluster import OPTICS\n",
    "\n",
    "# define the model\n",
    "model = OPTICS(eps=0.8, min_samples=10)\n",
    "# fit model and predict clusters\n",
    "yhat = model.fit_predict(data)\n",
    "\n",
    "# retrieve unique clusters\n",
    "clusters = np.unique(yhat)\n",
    "# create scatter plot for samples from each cluster\n",
    "for cluster in clusters:\n",
    "    # get rows that exists in each cluster\n",
    "    row = data[yhat == cluster]\n",
    "    # create scatter of these samples\n",
    "    plt.scatter(row['Price'], row['Total Developed'])\n",
    "# show the plot\n",
    "plt.show()"
   ]
  },
  {
   "cell_type": "code",
   "execution_count": 55,
   "id": "9464e95c",
   "metadata": {
    "ExecuteTime": {
     "end_time": "2022-11-28T14:21:06.569463Z",
     "start_time": "2022-11-28T14:21:06.545338Z"
    }
   },
   "outputs": [
    {
     "data": {
      "text/html": [
       "<div>\n",
       "<style scoped>\n",
       "    .dataframe tbody tr th:only-of-type {\n",
       "        vertical-align: middle;\n",
       "    }\n",
       "\n",
       "    .dataframe tbody tr th {\n",
       "        vertical-align: top;\n",
       "    }\n",
       "\n",
       "    .dataframe thead th {\n",
       "        text-align: right;\n",
       "    }\n",
       "</style>\n",
       "<table border=\"1\" class=\"dataframe\">\n",
       "  <thead>\n",
       "    <tr style=\"text-align: right;\">\n",
       "      <th></th>\n",
       "      <th></th>\n",
       "      <th>Price</th>\n",
       "      <th>Bedrooms</th>\n",
       "      <th>Showers</th>\n",
       "      <th>Parking</th>\n",
       "      <th>Furnish</th>\n",
       "      <th>Total Developed</th>\n",
       "      <th>NFeatures</th>\n",
       "      <th>NFacilities</th>\n",
       "      <th>NNearby Places</th>\n",
       "    </tr>\n",
       "    <tr>\n",
       "      <th>Type</th>\n",
       "      <th>Island</th>\n",
       "      <th></th>\n",
       "      <th></th>\n",
       "      <th></th>\n",
       "      <th></th>\n",
       "      <th></th>\n",
       "      <th></th>\n",
       "      <th></th>\n",
       "      <th></th>\n",
       "      <th></th>\n",
       "    </tr>\n",
       "  </thead>\n",
       "  <tbody>\n",
       "    <tr>\n",
       "      <th rowspan=\"3\" valign=\"top\">Condo</th>\n",
       "      <th>Luzon</th>\n",
       "      <td>2.110796e+07</td>\n",
       "      <td>1.752427</td>\n",
       "      <td>1.618932</td>\n",
       "      <td>0.485437</td>\n",
       "      <td>0.723301</td>\n",
       "      <td>100.353689</td>\n",
       "      <td>3.398058</td>\n",
       "      <td>7.582524</td>\n",
       "      <td>2.752427</td>\n",
       "    </tr>\n",
       "    <tr>\n",
       "      <th>Mindanao</th>\n",
       "      <td>3.271000e+06</td>\n",
       "      <td>1.000000</td>\n",
       "      <td>1.000000</td>\n",
       "      <td>0.000000</td>\n",
       "      <td>0.000000</td>\n",
       "      <td>24.000000</td>\n",
       "      <td>2.000000</td>\n",
       "      <td>8.000000</td>\n",
       "      <td>4.000000</td>\n",
       "    </tr>\n",
       "    <tr>\n",
       "      <th>Visayas</th>\n",
       "      <td>5.249775e+07</td>\n",
       "      <td>2.700000</td>\n",
       "      <td>2.200000</td>\n",
       "      <td>1.100000</td>\n",
       "      <td>0.500000</td>\n",
       "      <td>83.200000</td>\n",
       "      <td>2.900000</td>\n",
       "      <td>9.000000</td>\n",
       "      <td>2.400000</td>\n",
       "    </tr>\n",
       "    <tr>\n",
       "      <th rowspan=\"3\" valign=\"top\">House</th>\n",
       "      <th>Luzon</th>\n",
       "      <td>4.295314e+07</td>\n",
       "      <td>3.706215</td>\n",
       "      <td>3.186441</td>\n",
       "      <td>2.101695</td>\n",
       "      <td>0.813559</td>\n",
       "      <td>369.926554</td>\n",
       "      <td>4.446328</td>\n",
       "      <td>0.000000</td>\n",
       "      <td>0.000000</td>\n",
       "    </tr>\n",
       "    <tr>\n",
       "      <th>Mindanao</th>\n",
       "      <td>1.250000e+07</td>\n",
       "      <td>4.666667</td>\n",
       "      <td>4.000000</td>\n",
       "      <td>2.666667</td>\n",
       "      <td>2.000000</td>\n",
       "      <td>250.000000</td>\n",
       "      <td>7.000000</td>\n",
       "      <td>0.000000</td>\n",
       "      <td>0.000000</td>\n",
       "    </tr>\n",
       "    <tr>\n",
       "      <th>Visayas</th>\n",
       "      <td>1.788874e+07</td>\n",
       "      <td>4.357143</td>\n",
       "      <td>3.107143</td>\n",
       "      <td>2.000000</td>\n",
       "      <td>0.714286</td>\n",
       "      <td>272.428571</td>\n",
       "      <td>4.714286</td>\n",
       "      <td>0.071429</td>\n",
       "      <td>0.000000</td>\n",
       "    </tr>\n",
       "  </tbody>\n",
       "</table>\n",
       "</div>"
      ],
      "text/plain": [
       "                       Price  Bedrooms   Showers   Parking   Furnish  \\\n",
       "Type  Island                                                           \n",
       "Condo Luzon     2.110796e+07  1.752427  1.618932  0.485437  0.723301   \n",
       "      Mindanao  3.271000e+06  1.000000  1.000000  0.000000  0.000000   \n",
       "      Visayas   5.249775e+07  2.700000  2.200000  1.100000  0.500000   \n",
       "House Luzon     4.295314e+07  3.706215  3.186441  2.101695  0.813559   \n",
       "      Mindanao  1.250000e+07  4.666667  4.000000  2.666667  2.000000   \n",
       "      Visayas   1.788874e+07  4.357143  3.107143  2.000000  0.714286   \n",
       "\n",
       "                Total Developed  NFeatures  NFacilities  NNearby Places  \n",
       "Type  Island                                                             \n",
       "Condo Luzon          100.353689   3.398058     7.582524        2.752427  \n",
       "      Mindanao        24.000000   2.000000     8.000000        4.000000  \n",
       "      Visayas         83.200000   2.900000     9.000000        2.400000  \n",
       "House Luzon          369.926554   4.446328     0.000000        0.000000  \n",
       "      Mindanao       250.000000   7.000000     0.000000        0.000000  \n",
       "      Visayas        272.428571   4.714286     0.071429        0.000000  "
      ]
     },
     "execution_count": 55,
     "metadata": {},
     "output_type": "execute_result"
    }
   ],
   "source": [
    "df.loc[data[yhat == clusters[0]].index].groupby(['Type', 'Island']).mean()"
   ]
  },
  {
   "cell_type": "markdown",
   "id": "73f3b40c",
   "metadata": {},
   "source": [
    "## Gaussian Mixture Model\n",
    "https://machinelearningmastery.com/clustering-algorithms-with-python/"
   ]
  },
  {
   "cell_type": "code",
   "execution_count": 76,
   "id": "8a60c76c",
   "metadata": {
    "ExecuteTime": {
     "end_time": "2022-11-28T14:29:41.745531Z",
     "start_time": "2022-11-28T14:29:41.576961Z"
    }
   },
   "outputs": [
    {
     "name": "stdout",
     "output_type": "stream",
     "text": [
      "1035 7616232.893719806\n",
      "266 91174849.46992481\n",
      "8 343912500.0\n",
      "942 25069899.56581741\n",
      "18 169093666.66666666\n"
     ]
    },
    {
     "data": {
      "image/png": "[encoded data removed]",
      "text/plain": [
       "<Figure size 432x288 with 1 Axes>"
      ]
     },
     "metadata": {
      "needs_background": "light"
     },
     "output_type": "display_data"
    }
   ],
   "source": [
    "from sklearn.mixture import GaussianMixture\n",
    "# define the model\n",
    "model = GaussianMixture(n_components=5)\n",
    "# fit the model\n",
    "model.fit(data)\n",
    "# assign a cluster to each example\n",
    "yhat = model.predict(data)\n",
    "\n",
    "# retrieve unique clusters\n",
    "clusters = np.unique(yhat)\n",
    "# create scatter plot for samples from each cluster\n",
    "for cluster in clusters:\n",
    "    # get rows that exists in each cluster\n",
    "    row = data[yhat == cluster]\n",
    "    print(len(row), row['Price'].mean())\n",
    "    # create scatter of these samples\n",
    "    plt.scatter(row['Price'], row['Total Developed'])\n",
    "# show the plot\n",
    "plt.show()"
   ]
  },
  {
   "cell_type": "code",
   "execution_count": null,
   "id": "1eed6cb8",
   "metadata": {},
   "outputs": [],
   "source": []
  }
 ],
 "metadata": {
  "kernelspec": {
   "display_name": "Python 3 (ipykernel)",
   "language": "python",
   "name": "python3"
  },
  "language_info": {
   "codemirror_mode": {
    "name": "ipython",
    "version": 3
   },
   "file_extension": ".py",
   "mimetype": "text/x-python",
   "name": "python",
   "nbconvert_exporter": "python",
   "pygments_lexer": "ipython3",
   "version": "3.8.8"
  },
  "toc": {
   "base_numbering": 1,
   "nav_menu": {},
   "number_sections": true,
   "sideBar": true,
   "skip_h1_title": false,
   "title_cell": "Table of Contents",
   "title_sidebar": "Contents",
   "toc_cell": false,
   "toc_position": {
    "height": "calc(100% - 180px)",
    "left": "10px",
    "top": "150px",
    "width": "384px"
   },
   "toc_section_display": true,
   "toc_window_display": true
  }
 },
 "nbformat": 4,
 "nbformat_minor": 5
}
