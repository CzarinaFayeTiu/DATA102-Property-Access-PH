{
 "cells": [
  {
   "cell_type": "markdown",
   "id": "e7c3f62b",
   "metadata": {},
   "source": [
    "## Scraping Property Access PH through Selenium\n",
    "This notebook was prepared by Adem Inovejas, Christopher Lim, Czarina Tiu, and Uriel Grace Magtibay (students of DATA102 S11 Y2022-2023).  \n",
    "\n",
    "In your notebook, make sure you have the following details outlined:\n",
    "- The website scraped\n",
    "- Date and time when the data was collected\n",
    "- What were the challenges encountered? You may narrate or illustrate this in the notebook.\n",
    "- Do you think the collected data contains any personally identifiable information (PII)?\n",
    "- Conclude with your key learnings and findings."
   ]
  },
  {
   "cell_type": "markdown",
   "id": "bdad89e3",
   "metadata": {},
   "source": [
    "## Importing Libaries"
   ]
  },
  {
   "cell_type": "code",
   "execution_count": 1,
   "id": "bebebb27",
   "metadata": {
    "ExecuteTime": {
     "end_time": "2022-10-17T09:25:41.677095Z",
     "start_time": "2022-10-17T09:25:41.145760Z"
    }
   },
   "outputs": [],
   "source": [
    "from bs4 import BeautifulSoup\n",
    "import pandas as pd\n",
    "import os\n",
    "import datetime\n",
    "import time\n",
    "\n",
    "from selenium import webdriver\n",
    "from selenium.webdriver.common.keys import Keys\n",
    "from selenium.webdriver.chrome.service import Service\n",
    "from webdriver_manager.chrome import ChromeDriverManager"
   ]
  },
  {
   "cell_type": "markdown",
   "id": "aaee5251",
   "metadata": {},
   "source": [
    "## Setup"
   ]
  },
  {
   "cell_type": "code",
   "execution_count": 2,
   "id": "ff91d067",
   "metadata": {
    "ExecuteTime": {
     "end_time": "2022-10-17T09:25:43.815238Z",
     "start_time": "2022-10-17T09:25:41.677095Z"
    }
   },
   "outputs": [],
   "source": [
    "driver = webdriver.Chrome(service=Service(ChromeDriverManager().install()))"
   ]
  },
  {
   "cell_type": "code",
   "execution_count": 3,
   "id": "69c29000",
   "metadata": {
    "ExecuteTime": {
     "end_time": "2022-10-17T09:25:46.495229Z",
     "start_time": "2022-10-17T09:25:43.816228Z"
    }
   },
   "outputs": [],
   "source": [
    "url = \"https://propertyaccess.ph/offer/sale\"\n",
    "driver.get(url)"
   ]
  },
  {
   "cell_type": "markdown",
   "id": "beface6f",
   "metadata": {},
   "source": [
    "## Data Collection"
   ]
  },
  {
   "cell_type": "markdown",
   "id": "4cccf569",
   "metadata": {},
   "source": [
    "### Collecting  the URLs of each properties"
   ]
  },
  {
   "cell_type": "code",
   "execution_count": 4,
   "id": "f01978e1",
   "metadata": {
    "ExecuteTime": {
     "end_time": "2022-10-17T09:17:12.224058Z",
     "start_time": "2022-10-17T09:13:19.423291Z"
    }
   },
   "outputs": [
    {
     "name": "stdout",
     "output_type": "stream",
     "text": [
      "Extracted Page 1 | 20 items found | 0.57s\n",
      "Extracted Page 2 | 20 items found | 0.54s\n",
      "Extracted Page 3 | 20 items found | 0.60s\n",
      "Extracted Page 4 | 20 items found | 0.63s\n",
      "Extracted Page 5 | 20 items found | 0.62s\n",
      "Extracted Page 6 | 20 items found | 0.66s\n",
      "Extracted Page 7 | 20 items found | 0.66s\n",
      "Extracted Page 8 | 20 items found | 0.69s\n",
      "Extracted Page 9 | 20 items found | 0.68s\n",
      "Extracted Page 10 | 20 items found | 0.66s\n",
      "Extracted Page 11 | 20 items found | 0.66s\n",
      "Extracted Page 12 | 20 items found | 0.67s\n",
      "Extracted Page 13 | 20 items found | 0.66s\n",
      "Extracted Page 14 | 20 items found | 0.69s\n",
      "Extracted Page 15 | 20 items found | 0.67s\n",
      "Extracted Page 16 | 20 items found | 0.75s\n",
      "Extracted Page 17 | 20 items found | 0.66s\n",
      "Extracted Page 18 | 20 items found | 0.66s\n",
      "Extracted Page 19 | 20 items found | 0.71s\n",
      "Extracted Page 20 | 20 items found | 0.74s\n",
      "Extracted Page 21 | 20 items found | 0.74s\n",
      "Extracted Page 22 | 20 items found | 0.64s\n",
      "Extracted Page 23 | 20 items found | 0.69s\n",
      "Extracted Page 24 | 20 items found | 0.69s\n",
      "Extracted Page 25 | 20 items found | 0.66s\n",
      "Extracted Page 26 | 20 items found | 0.70s\n",
      "Extracted Page 27 | 20 items found | 0.67s\n",
      "Extracted Page 28 | 20 items found | 0.78s\n",
      "Extracted Page 29 | 20 items found | 0.67s\n",
      "Extracted Page 30 | 20 items found | 0.66s\n",
      "Extracted Page 31 | 20 items found | 0.70s\n",
      "Extracted Page 32 | 20 items found | 0.68s\n",
      "Extracted Page 33 | 20 items found | 0.65s\n",
      "Extracted Page 34 | 20 items found | 0.67s\n",
      "Extracted Page 35 | 20 items found | 0.67s\n",
      "Extracted Page 36 | 20 items found | 0.64s\n",
      "Extracted Page 37 | 20 items found | 0.67s\n",
      "Extracted Page 38 | 20 items found | 0.75s\n",
      "Extracted Page 39 | 20 items found | 0.66s\n",
      "Extracted Page 40 | 20 items found | 0.64s\n",
      "Extracted Page 41 | 20 items found | 0.65s\n",
      "Extracted Page 42 | 20 items found | 0.67s\n",
      "Extracted Page 43 | 20 items found | 0.64s\n",
      "Extracted Page 44 | 20 items found | 0.64s\n",
      "Extracted Page 45 | 20 items found | 0.65s\n",
      "Extracted Page 46 | 20 items found | 0.62s\n",
      "Extracted Page 47 | 20 items found | 0.65s\n",
      "Extracted Page 48 | 20 items found | 0.70s\n",
      "Extracted Page 49 | 20 items found | 0.68s\n",
      "Extracted Page 50 | 20 items found | 0.63s\n",
      "Extracted Page 51 | 20 items found | 0.72s\n",
      "Extracted Page 52 | 20 items found | 0.69s\n",
      "Extracted Page 53 | 20 items found | 0.68s\n",
      "Extracted Page 54 | 20 items found | 0.65s\n",
      "Extracted Page 55 | 20 items found | 0.70s\n",
      "Extracted Page 56 | 20 items found | 0.67s\n",
      "Extracted Page 57 | 20 items found | 0.68s\n",
      "Extracted Page 58 | 20 items found | 0.66s\n",
      "Extracted Page 59 | 20 items found | 0.73s\n",
      "Extracted Page 60 | 20 items found | 0.66s\n",
      "Extracted Page 61 | 20 items found | 0.67s\n",
      "Extracted Page 62 | 20 items found | 0.68s\n",
      "Extracted Page 63 | 20 items found | 0.72s\n",
      "Extracted Page 64 | 20 items found | 0.66s\n",
      "Extracted Page 65 | 20 items found | 0.68s\n",
      "Extracted Page 66 | 20 items found | 0.65s\n",
      "Extracted Page 67 | 20 items found | 0.63s\n",
      "Extracted Page 68 | 20 items found | 0.63s\n",
      "Extracted Page 69 | 20 items found | 0.67s\n",
      "Extracted Page 70 | 20 items found | 0.66s\n",
      "Extracted Page 71 | 20 items found | 0.62s\n",
      "Extracted Page 72 | 20 items found | 0.63s\n",
      "Extracted Page 73 | 20 items found | 0.62s\n",
      "Extracted Page 74 | 20 items found | 0.65s\n",
      "Extracted Page 75 | 20 items found | 0.68s\n",
      "Extracted Page 76 | 20 items found | 0.63s\n",
      "Extracted Page 77 | 20 items found | 0.64s\n",
      "Extracted Page 78 | 20 items found | 0.70s\n",
      "Extracted Page 79 | 20 items found | 0.68s\n",
      "Extracted Page 80 | 20 items found | 0.65s\n",
      "Extracted Page 81 | 20 items found | 0.65s\n",
      "Extracted Page 82 | 20 items found | 0.62s\n",
      "Extracted Page 83 | 20 items found | 0.68s\n",
      "Extracted Page 84 | 20 items found | 0.64s\n",
      "Extracted Page 85 | 20 items found | 0.67s\n",
      "Extracted Page 86 | 20 items found | 0.65s\n",
      "Extracted Page 87 | 20 items found | 0.69s\n",
      "Extracted Page 88 | 20 items found | 0.60s\n",
      "Extracted Page 89 | 20 items found | 0.66s\n",
      "Extracted Page 90 | 20 items found | 0.63s\n",
      "Extracted Page 91 | 20 items found | 0.66s\n",
      "Extracted Page 92 | 20 items found | 0.63s\n",
      "Extracted Page 93 | 20 items found | 0.68s\n",
      "Extracted Page 94 | 20 items found | 0.68s\n",
      "Extracted Page 95 | 20 items found | 0.73s\n",
      "Extracted Page 96 | 20 items found | 0.66s\n",
      "Extracted Page 97 | 20 items found | 0.63s\n",
      "Extracted Page 98 | 20 items found | 0.63s\n",
      "Extracted Page 99 | 20 items found | 0.63s\n",
      "Extracted Page 100 | 20 items found | 0.63s\n",
      "Extracted Page 101 | 20 items found | 0.62s\n",
      "Extracted Page 102 | 20 items found | 0.65s\n",
      "Extracted Page 103 | 20 items found | 0.66s\n",
      "Extracted Page 104 | 20 items found | 0.70s\n",
      "Extracted Page 105 | 20 items found | 0.66s\n",
      "Extracted Page 106 | 20 items found | 0.71s\n",
      "Extracted Page 107 | 20 items found | 0.76s\n",
      "Extracted Page 108 | 20 items found | 0.71s\n",
      "Extracted Page 109 | 20 items found | 0.66s\n",
      "Extracted Page 110 | 20 items found | 0.75s\n",
      "Extracted Page 111 | 20 items found | 0.71s\n",
      "Extracted Page 112 | 20 items found | 0.68s\n",
      "Extracted Page 113 | 20 items found | 0.69s\n",
      "Extracted Page 114 | 20 items found | 0.69s\n",
      "Extracted Page 115 | 20 items found | 0.64s\n",
      "Extracted Page 116 | 20 items found | 0.67s\n",
      "Extracted Page 117 | 20 items found | 0.70s\n",
      "Extracted Page 118 | 20 items found | 0.70s\n",
      "Extracted Page 119 | 20 items found | 0.67s\n",
      "Extracted Page 120 | 20 items found | 0.67s\n",
      "Extracted Page 121 | 20 items found | 0.66s\n",
      "Extracted Page 122 | 20 items found | 0.66s\n",
      "Extracted Page 123 | 16 items found | 0.55s\n",
      "Number of pages: 123\n",
      "Number of products: 2456\n"
     ]
    }
   ],
   "source": [
    "has_pages = True\n",
    "pages = 1\n",
    "urls = []\n",
    "total_time = 0\n",
    "while(has_pages):  \n",
    "    start = time.perf_counter()\n",
    "    \n",
    "    products_container = driver.find_element(by=\"xpath\", value='//div[@class=\"list-product page-content\"]')\n",
    "    \n",
    "    # gets the list of products\n",
    "    items = products_container.find_elements(by=\"xpath\", value='.//div[@class=\"product-wrapper\"]')\n",
    "    for item in items:\n",
    "        # get the href of the anchor of \"product-img\"\n",
    "        url = item.find_element(by=\"xpath\", value='.//div[@class=\"product-img\"]/a').get_attribute('href')\n",
    "        date_published = item.find_element(by=\"xpath\", value='.//div[@class=\"date\"]').text\n",
    "        urls.append((url, date_published))\n",
    "    \n",
    "    end = time.perf_counter()\n",
    "    \n",
    "    total_time += end - start\n",
    "    print('Extracted Page %d | %d items found | %.2fs' % (pages, len(items), end - start))\n",
    "    try:\n",
    "        # checks if next page button is available by getting the xpath\n",
    "        next_page = driver.find_element(\"xpath\", value='//ul[@class=\"pargination\"]/li[@class=\"next flex-end\"]/a').get_attribute(\"href\");\n",
    "        driver.get(next_page)\n",
    "        pages += 1\n",
    "    except:\n",
    "        # if next page button is not available, stop the loop\n",
    "        has_pages = False\n",
    "\n",
    "print('Number of pages:', pages)\n",
    "print('Number of products:', len(urls))\n",
    "print('Total Time:', total_time)"
   ]
  },
  {
   "cell_type": "markdown",
   "id": "e221c5fc",
   "metadata": {},
   "source": [
    "Exporting the URLs through pandas dataframe (as .csv)"
   ]
  },
  {
   "cell_type": "code",
   "execution_count": 5,
   "id": "87eec032",
   "metadata": {
    "ExecuteTime": {
     "end_time": "2022-10-17T09:17:41.075279Z",
     "start_time": "2022-10-17T09:17:41.051276Z"
    }
   },
   "outputs": [
    {
     "data": {
      "text/html": [
       "<div>\n",
       "<style scoped>\n",
       "    .dataframe tbody tr th:only-of-type {\n",
       "        vertical-align: middle;\n",
       "    }\n",
       "\n",
       "    .dataframe tbody tr th {\n",
       "        vertical-align: top;\n",
       "    }\n",
       "\n",
       "    .dataframe thead th {\n",
       "        text-align: right;\n",
       "    }\n",
       "</style>\n",
       "<table border=\"1\" class=\"dataframe\">\n",
       "  <thead>\n",
       "    <tr style=\"text-align: right;\">\n",
       "      <th></th>\n",
       "      <th>URL</th>\n",
       "      <th>Date Published</th>\n",
       "    </tr>\n",
       "  </thead>\n",
       "  <tbody>\n",
       "    <tr>\n",
       "      <th>0</th>\n",
       "      <td>https://propertyaccess.ph/property/3-br-condo-...</td>\n",
       "      <td>Published on: 30/03/2022</td>\n",
       "    </tr>\n",
       "    <tr>\n",
       "      <th>1</th>\n",
       "      <td>https://propertyaccess.ph/property/1br-condo-i...</td>\n",
       "      <td>Published on: 30/03/2022</td>\n",
       "    </tr>\n",
       "    <tr>\n",
       "      <th>2</th>\n",
       "      <td>https://propertyaccess.ph/property/3-bedroom-c...</td>\n",
       "      <td>Published on: 17/07/2022</td>\n",
       "    </tr>\n",
       "    <tr>\n",
       "      <th>3</th>\n",
       "      <td>https://propertyaccess.ph/property/3-bedroom-c...</td>\n",
       "      <td>Published on: 17/07/2022</td>\n",
       "    </tr>\n",
       "    <tr>\n",
       "      <th>4</th>\n",
       "      <td>https://propertyaccess.ph/property/2br-condo-i...</td>\n",
       "      <td>Published on: 1/06/2022</td>\n",
       "    </tr>\n",
       "  </tbody>\n",
       "</table>\n",
       "</div>"
      ],
      "text/plain": [
       "                                                 URL            Date Published\n",
       "0  https://propertyaccess.ph/property/3-br-condo-...  Published on: 30/03/2022\n",
       "1  https://propertyaccess.ph/property/1br-condo-i...  Published on: 30/03/2022\n",
       "2  https://propertyaccess.ph/property/3-bedroom-c...  Published on: 17/07/2022\n",
       "3  https://propertyaccess.ph/property/3-bedroom-c...  Published on: 17/07/2022\n",
       "4  https://propertyaccess.ph/property/2br-condo-i...   Published on: 1/06/2022"
      ]
     },
     "execution_count": 5,
     "metadata": {},
     "output_type": "execute_result"
    }
   ],
   "source": [
    "df = pd.DataFrame(urls, columns=['URL', 'Date Published'])\n",
    "df.head()"
   ]
  },
  {
   "cell_type": "code",
   "execution_count": 6,
   "id": "74ea7b09",
   "metadata": {
    "ExecuteTime": {
     "end_time": "2022-10-17T09:17:45.188887Z",
     "start_time": "2022-10-17T09:17:45.143870Z"
    }
   },
   "outputs": [],
   "source": [
    "df.to_csv('property_urls.csv', index=False)"
   ]
  },
  {
   "cell_type": "markdown",
   "id": "194a8107",
   "metadata": {},
   "source": [
    "### Going through each property page to get the details"
   ]
  },
  {
   "cell_type": "code",
   "execution_count": 4,
   "id": "75b70a3c",
   "metadata": {
    "ExecuteTime": {
     "end_time": "2022-10-17T09:25:46.526341Z",
     "start_time": "2022-10-17T09:25:46.496230Z"
    }
   },
   "outputs": [
    {
     "data": {
      "text/html": [
       "<div>\n",
       "<style scoped>\n",
       "    .dataframe tbody tr th:only-of-type {\n",
       "        vertical-align: middle;\n",
       "    }\n",
       "\n",
       "    .dataframe tbody tr th {\n",
       "        vertical-align: top;\n",
       "    }\n",
       "\n",
       "    .dataframe thead th {\n",
       "        text-align: right;\n",
       "    }\n",
       "</style>\n",
       "<table border=\"1\" class=\"dataframe\">\n",
       "  <thead>\n",
       "    <tr style=\"text-align: right;\">\n",
       "      <th></th>\n",
       "      <th>URL</th>\n",
       "      <th>Date Published</th>\n",
       "    </tr>\n",
       "  </thead>\n",
       "  <tbody>\n",
       "    <tr>\n",
       "      <th>0</th>\n",
       "      <td>https://propertyaccess.ph/property/3-br-condo-...</td>\n",
       "      <td>Published on: 30/03/2022</td>\n",
       "    </tr>\n",
       "    <tr>\n",
       "      <th>1</th>\n",
       "      <td>https://propertyaccess.ph/property/1br-condo-i...</td>\n",
       "      <td>Published on: 30/03/2022</td>\n",
       "    </tr>\n",
       "    <tr>\n",
       "      <th>2</th>\n",
       "      <td>https://propertyaccess.ph/property/3-bedroom-c...</td>\n",
       "      <td>Published on: 17/07/2022</td>\n",
       "    </tr>\n",
       "    <tr>\n",
       "      <th>3</th>\n",
       "      <td>https://propertyaccess.ph/property/3-bedroom-c...</td>\n",
       "      <td>Published on: 17/07/2022</td>\n",
       "    </tr>\n",
       "    <tr>\n",
       "      <th>4</th>\n",
       "      <td>https://propertyaccess.ph/property/2br-condo-i...</td>\n",
       "      <td>Published on: 1/06/2022</td>\n",
       "    </tr>\n",
       "  </tbody>\n",
       "</table>\n",
       "</div>"
      ],
      "text/plain": [
       "                                                 URL            Date Published\n",
       "0  https://propertyaccess.ph/property/3-br-condo-...  Published on: 30/03/2022\n",
       "1  https://propertyaccess.ph/property/1br-condo-i...  Published on: 30/03/2022\n",
       "2  https://propertyaccess.ph/property/3-bedroom-c...  Published on: 17/07/2022\n",
       "3  https://propertyaccess.ph/property/3-bedroom-c...  Published on: 17/07/2022\n",
       "4  https://propertyaccess.ph/property/2br-condo-i...   Published on: 1/06/2022"
      ]
     },
     "execution_count": 4,
     "metadata": {},
     "output_type": "execute_result"
    }
   ],
   "source": [
    "df = pd.read_csv('property_urls.csv')\n",
    "df.head()"
   ]
  },
  {
   "cell_type": "code",
   "execution_count": null,
   "id": "6f2f5dbd",
   "metadata": {
    "ExecuteTime": {
     "start_time": "2022-10-17T09:25:46.379Z"
    },
    "scrolled": true
   },
   "outputs": [
    {
     "name": "stdout",
     "output_type": "stream",
     "text": [
      "[   0] 3 BR Condo in The Grand Midori Ortigas, Pasig\n",
      "[   1] 1 Bedroom Condo in The Grand Midori Ortigas, Pasig\n",
      "[   2] 3 Bedroom Condo in Aurelia Residences, Taguig\n",
      "[   3] 3 Bedroom Condo in Shang Residences at Wack Wack, Mandaluyong\n",
      "[   4] 2BR Condo in Residences at The Galleon, Pasig\n",
      "[   5] Penthouse in Residences at The Galleon, Pasig\n",
      "[   6] 3 Bedroom Condo in Aurelia Residences, Taguig\n",
      "[   7] 3 Bedroom Condo in Valencia Hills Tower E, Quezon City\n",
      "[   8] 2 Bedroom Condo in Valencia Hills Tower E, Quezon City\n",
      "[   9] 1 Bedroom Condo in Valencia Hills Tower E, Quezon City\n",
      "[  10] 3 Bedroom Condo in Aurelia Residences, Taguig\n",
      "[  11] 2 Bedroom Condo in The Rise Makati, Makati\n",
      "[  12] 3 Bedroom Condo in Aurelia Residences, Taguig\n",
      "[  13] 2 Bedroom Condo in Shang Residences at Wack Wack, Mandaluyong\n",
      "[  14] 1 Bedroom Condo in Shang Residences at Wack Wack, Mandaluyong\n",
      "[  15] 1BR Condo in Residences at The Galleon, Pasig\n",
      "[  16] 1 Bedroom Condo in The Rise, Makati\n",
      "[  17] Studio Condo in The Rise, Makati City\n",
      "[  18] 3 BR Condo in The Residences at The Westin, Mandaluyong\n",
      "[  19] 2 BR Condo in The Residences at The Westin, Mandaluyong\n",
      "[  20] Studio Condo in AmiSa Private Residences, Lapu-Lapu City\n",
      "[  21] 1 Bedroom Condo in AmiSa Private Residences, Lapu-Lapu City\n",
      "[  22] 2 Bedroom Condo in AmiSa Private Residences, Lapu-Lapu City\n",
      "[  23] 2 Bedroom Condo in Sky Arts Manila, Manila\n",
      "[  24] 1 Bedroom Condo in Sky Arts Manila, Manila\n",
      "[  25] Studio Condo in Sky Arts Manila, Manila\n",
      "[  26] 1 Bedroom Condo in Kizuna Heights, Manila\n",
      "[  27] Studio Condo in Kizuna Heights, Manila\n",
      "[  28] 1 Bedroom Condo in Maple at Verdánt Towers, Pasig\n",
      "[  29] 3 Bedroom Condo in Empress at Capitol Commons, Pasig\n",
      "[  30] 2 Bedroom Condo in Empress at Capitol Commons, Pasig\n",
      "[  31] 2 Bedroom Condo in Quantum Residences, Pasay\n",
      "[  32] Studio Condo in Quantum Residences, Pasay\n",
      "[  33] 1 Bedroom Condo in Avida Towers Verge, Mandaluyong\n",
      "[  34] Jr. 1 Bedroom Condo in Avida Towers Verge, Mandaluyong\n",
      "[  35] 1 Bedroom Condo in Avida Towers Ardane, Muntinlupa\n",
      "[  36] Jr. 1 Bedroom Condo in Avida Towers Ardane, Muntinlupa\n",
      "[  37] Studio Condo in Avida Towers Ardane, Muntinlupa\n",
      "[  38] 2 Bedroom Condo in Avida Towers Riala, Cebu City\n",
      "[  39] Studio Condo in Avida Towers Riala, Cebu City\n",
      "[  40] 1 Bedroom Condo in Avida Towers Riala, Cebu City\n",
      "[  41] 2 Bedroom Condo in Avida Towers Riala, Cebu City\n",
      "[  42] 2 Bedroom Condo in Avida Towers Riala, Cebu City\n",
      "[  43] 3 BR Condo with Villa in The Seasons Residences\n",
      "[  44] 1BR Condo in Empress at Capitol Commons, Pasig\n",
      "[  45] 3 BR Penthouse Condo in The Seasons Residences\n",
      "[  46] 3 BR Condo in The Seasons Residences\n",
      "[  47] 2 BR Condo in The Seasons Residences\n",
      "[  48] 1 BR Condo in The Seasons Residences\n",
      "[  49] 1-BR Loft in BGC, Taguig\n",
      "[  50] 10 Bedroom Apartment, Cebu City\n",
      "[  51] 4 Bedroom House & Lot, Consolacion\n",
      "[  52] 3 Bedroom House & Lot, Cebu City\n",
      "[  53] 4 Bedroom Condo, Baguio\n",
      "[  54] 1 Bedroom Condo in Light Residences, Mandaluyong\n",
      "[  55] Studio Condo, Baguio\n",
      "[  56] 2 Bedroom Condo in Shang Grand Tower, Makati\n",
      "[  57] 3 Bedroom House & Lot, Baguio\n",
      "[  58] 2 Bedroom House & Lot, Antipolo\n",
      "[  59] 1 Bedroom House & Lot, Antipolo\n",
      "[  60] Studio Condo in Avida Towers Vertis North, Quezon City\n",
      "[  61] 1 Bedroom Condo in High Park at Vertis North, Quezon City\n",
      "[  62] 2 Bedroom Condo in High Park at Vertis North, Quezon City\n",
      "[  63] 4 Bedroom House & Lot, Quezon City\n",
      "[  64] 4 Bedroom House & Lot, Las Piñas\n",
      "[  65] 5 Bedroom House & Lot, Talisay\n",
      "[  66] 3 Bedroom Condo in Princeview Parksuites, Manila\n",
      "[  67] Studio Condo in The Erin Heights, Quezon City\n",
      "[  68] 4 Bedroom House & Lot, Mandaue City\n",
      "[  69] Residential Lot, Lapu-Lapu City\n",
      "[  70] Studio Condo, Cebu City\n",
      "[  71] 3 Bedroom House & Lot, Cebu City\n",
      "[  72] 2 Bedroom Condo in Joya Lofts and Towers, Makati\n",
      "[  73] 2 Bedroom Condo in The Proscenium, Makati\n",
      "[  74] 2 Bedroom Condo in Arya Residences, Taguig\n",
      "[  75] 4 Bedroom Condo in Rizal Tower, Makati\n",
      "[  76] 2 Bedroom Condo in The Proscenium, Makati\n",
      "[  77] 2 Bedroom Condo in The Vantage, Pasig\n",
      "[  78] 7 Bedroom House & Lot, Muntinlupa\n",
      "[  79] 6 Bedroom House & Lot, Tagaytay\n",
      "[  80] 1 BR Condo Unit at Eton Residences in Makati\n",
      "[  81] 2 Bedroom House & Lot, Cebu City\n",
      "[  82] 1 Bedroom Condo, Cebu City\n",
      "[  83] 4 Bedroom House & Lot, Cebu City\n",
      "[  84] 1 Bedroom Condo, Cebu City\n",
      "[  85] 1 Bedroom Condo in 32 Sanson, Cebu City\n",
      "[  86] 3 Bedroom House & Lot, Consolacion\n",
      "[  87] 4 Bedroom House & Lot, Talisay\n",
      "[  88] Studio Condo in Avida Towers Riala, Cebu City\n",
      "[  89] Studio Condo Sunvida Tower, Cebu City\n",
      "[  90] 5 Bedroom House & Lot, Antipolo\n",
      "[  91] 1 Bedroom Condo in San Lorenzo Place, Makati\n",
      "[  92] 7 Bedroom House & Lot, Silang\n",
      "[  93] 5 Bedroom House & Lot, Las Piñas\n",
      "[  94] 2 Bedroom Condo in The Balmori Suites, Makati\n",
      "[  95] 6 Bedroom House & Lot, Quezon City\n",
      "[  96] 9 Bedroom House & Lot, Makati\n",
      "Error occured on https://propertyaccess.ph/property/4-bedroom-condo-in-st-mortiz-private-estate-manila-ArSQo4?queryID=a4d3e5db273c5f9d82ecce15ee618e77\n",
      "[  98] 2 Bedroom Condo in Icon Plaza, Taguig\n",
      "Error occured on https://propertyaccess.ph/property/1-bedroom-condo-in-joya-lofts-and-towers-makati-0smmJe?queryID=a4d3e5db273c5f9d82ecce15ee618e77\n",
      "[ 100] 3 Bedroom House & Lot, Dasmariñas\n",
      "[ 101] 6 Bedroom House & Lot, Parañaque\n",
      "[ 102] 3 Bedroom House & Lot, Quezon City\n",
      "[ 103] 3 Bedroom House & Lot, Quezon City\n",
      "[ 104] 4 Bedroom Condo in Rizal Tower, Makati\n",
      "[ 105] Residential Lot, Capas\n",
      "[ 106] 4 Bedroom House & Lot, Quezon City\n",
      "[ 107] 3 Bedroom Condo in The Velaris Residences, Pasig\n",
      "[ 108] 1 Bedroom Condo in The Velaris Residences, Pasig\n",
      "[ 109] 2 Bedroom Condo in The Velaris Residences, Pasig\n",
      "[ 110] 3 Bedroom House & Lot, Alfonso\n",
      "[ 111] 2 Bedroom Condo in Baywatch Tower, Manila\n",
      "[ 112] 3 Bedroom Condo in Greenbelt Parkplace, Makati\n",
      "[ 113] Studio Condo in The Rise Makati, Makati\n",
      "[ 114] 1 Bedroom Condo in The Proscenium, Makati\n",
      "Error occured on https://propertyaccess.ph/property/studio-condo-in-avida-towers-sola-vertis-north-quezon-city-ECIefD?queryID=b945ea8504407fd46d11546637c7a45b\n",
      "Error occured on https://propertyaccess.ph/property/3-bedroom-house-and-lot-pasig-dFVB4F?queryID=b945ea8504407fd46d11546637c7a45b\n",
      "[ 117] 5 Bedroom House & Lot, Cebu City\n"
     ]
    }
   ],
   "source": [
    "data = []\n",
    "total_time = 0\n",
    "for i, item in enumerate(list(zip(df['URL'], df['Date Published']))):\n",
    "    try:\n",
    "        start = time.perf_counter()\n",
    "        url, date_published = item\n",
    "        driver.get(url)\n",
    "\n",
    "        # get the container which contains the property details\n",
    "        property_details = driver.find_element(by=\"xpath\", value='//div[@class=\"product-detail-wraper\"]')\n",
    "\n",
    "        # find the name\n",
    "        name = property_details.find_element(by=\"xpath\", value='.//h1[@class=\"basic-info__name\"]').text\n",
    "        address = property_details.find_element(by=\"xpath\", value='.//div[@class=\"basic-info__street\"]').text\n",
    "        price = property_details.find_element(by=\"xpath\", value='.//div[@class=\"basic-info__price\"]').text\n",
    "        author = property_details.find_element(by=\"xpath\", value='.//div[@class=\"agent-name line-clamp lc-2\"]').text\n",
    "\n",
    "        # get the bedrooms, showers, parking, furnish type, total developed and lot area through utility info\n",
    "        utility_info = property_details.find_element(by=\"xpath\", value='.//div[@class=\"basic-info__utilities\"]')\n",
    "\n",
    "        try:\n",
    "            bedrooms = utility_info.find_element(by=\"xpath\", value='//img[@data-src=\"https://cdn.propertyaccess.ph/prod/v1.2.5-fis-hotfix-2/f24d0f0d48276caeca2060fd60abf269.svg\"]/..').text\n",
    "        except:\n",
    "            bedrooms = None\n",
    "\n",
    "        try:\n",
    "            showers = utility_info.find_element(by=\"xpath\", value='//img[@data-src=\"https://cdn.propertyaccess.ph/prod/v1.2.5-fis-hotfix-2/a6e500c94a1eaacdd59fde045fba89f0.svg\"]/..').text\n",
    "        except:\n",
    "            showers = None\n",
    "\n",
    "        try:\n",
    "            furnish = utility_info.find_element(by=\"xpath\", value='//img[@data-src=\"https://cdn.propertyaccess.ph/prod/v1.2.5-fis-hotfix-2/9fb04d2eb34997da34e3dcfd140f51b6.svg\"]/..').text\n",
    "        except:\n",
    "            furnish = None\n",
    "\n",
    "        try:\n",
    "            parking = utility_info.find_element(by=\"xpath\", value='//img[@data-src=\"https://cdn.propertyaccess.ph/prod/v1.2.5-fis-hotfix-2/33d487e03cfed78b821458ab3c39b574.svg\"]/..').text\n",
    "        except:\n",
    "            parking = None\n",
    "\n",
    "        try:\n",
    "            total_developed = utility_info.find_element(by=\"xpath\", value='//img[@data-src=\"https://cdn.propertyaccess.ph/prod/v1.2.5-fis-hotfix-2/57cebe2c8bcb0aa7f604503ddb740621.svg\"]/..').text\n",
    "        except:\n",
    "            total_developed = None\n",
    "\n",
    "        try:\n",
    "            lot_area = utility_info.find_element(by=\"xpath\", value='//img[@data-src=\"https://cdn.propertyaccess.ph/prod/v1.2.5-fis-hotfix-2/da2ffe9d4238be9a3d697b4195b64fe7.svg\"]/..').text\n",
    "        except:\n",
    "            lot_area = None\n",
    "\n",
    "        # if section title is Property Features or Amenities\n",
    "        features = [feature.text for feature in property_details.find_elements(by=\"xpath\", value='.//section[@class=\"product-feature\"]//div[text()=\"Property Features\" or text()=\"Amenities\"]/..//div[@class=\"item-listing readmore-target\"]//p')]\n",
    "\n",
    "        # if section title is Facilities\n",
    "        facilities = [facility.text for facility in property_details.find_elements(by=\"xpath\", value='.//section[@class=\"product-feature\"]//div[text()=\"Facilities\"]/..//div[@class=\"item-listing readmore-target\"]//p')]\n",
    "\n",
    "        # if section title is Nearby Places\n",
    "        nearby_places = [place.text for place in property_details.find_elements(by=\"xpath\", value='.//section[@class=\"product-nearby\"]//div[@class=\"item-title\"]')]\n",
    "\n",
    "        timestamp = datetime.datetime.now().strftime(\"%Y-%m-%d %H:%M:%S\")\n",
    "        \n",
    "        end = time.perf_counter()\n",
    "\n",
    "        total_time += end - start\n",
    "        \n",
    "        print('[%4d] %s | %.2fs' % (i, name, end - start))\n",
    "\n",
    "        data.append((name, address, author, price, bedrooms, showers, parking, furnish, total_developed, lot_area, features, facilities, nearby_places, url, timestamp))\n",
    "    except:\n",
    "        # if page is un-available\n",
    "        print('Error occured on', url)"
   ]
  },
  {
   "cell_type": "code",
   "execution_count": null,
   "id": "167433e3",
   "metadata": {
    "ExecuteTime": {
     "start_time": "2022-10-17T09:25:46.537Z"
    }
   },
   "outputs": [],
   "source": [
    "column_names = ['Name', 'Address', 'Author', 'Price', 'Bedrooms', 'Showers', 'Parking', 'Furnish', 'Total Developed', 'Lot Area', 'Features', 'Facilities', 'Nearby Places', 'URL', 'Timestamp']\n",
    "df = pd.DataFrame(data, columns = column_names)\n",
    "df.head()"
   ]
  },
  {
   "cell_type": "code",
   "execution_count": 15,
   "id": "0773d25a",
   "metadata": {
    "ExecuteTime": {
     "end_time": "2022-09-26T17:01:17.532834Z",
     "start_time": "2022-09-26T17:01:17.503751Z"
    }
   },
   "outputs": [
    {
     "data": {
      "text/html": [
       "<div>\n",
       "<style scoped>\n",
       "    .dataframe tbody tr th:only-of-type {\n",
       "        vertical-align: middle;\n",
       "    }\n",
       "\n",
       "    .dataframe tbody tr th {\n",
       "        vertical-align: top;\n",
       "    }\n",
       "\n",
       "    .dataframe thead th {\n",
       "        text-align: right;\n",
       "    }\n",
       "</style>\n",
       "<table border=\"1\" class=\"dataframe\">\n",
       "  <thead>\n",
       "    <tr style=\"text-align: right;\">\n",
       "      <th></th>\n",
       "      <th>Name</th>\n",
       "      <th>Address</th>\n",
       "      <th>Author</th>\n",
       "      <th>Price</th>\n",
       "      <th>Bedrooms</th>\n",
       "      <th>Showers</th>\n",
       "      <th>Parking</th>\n",
       "      <th>Furnish</th>\n",
       "      <th>Total Developed</th>\n",
       "      <th>Lot Area</th>\n",
       "      <th>Features</th>\n",
       "      <th>Facilities</th>\n",
       "      <th>Nearby Places</th>\n",
       "      <th>URL</th>\n",
       "      <th>Timestamp</th>\n",
       "    </tr>\n",
       "  </thead>\n",
       "  <tbody>\n",
       "    <tr>\n",
       "      <th>count</th>\n",
       "      <td>100</td>\n",
       "      <td>100</td>\n",
       "      <td>100</td>\n",
       "      <td>100</td>\n",
       "      <td>93</td>\n",
       "      <td>93</td>\n",
       "      <td>93</td>\n",
       "      <td>93</td>\n",
       "      <td>100</td>\n",
       "      <td>28</td>\n",
       "      <td>100</td>\n",
       "      <td>100</td>\n",
       "      <td>100</td>\n",
       "      <td>100</td>\n",
       "      <td>100</td>\n",
       "    </tr>\n",
       "    <tr>\n",
       "      <th>unique</th>\n",
       "      <td>83</td>\n",
       "      <td>44</td>\n",
       "      <td>27</td>\n",
       "      <td>96</td>\n",
       "      <td>6</td>\n",
       "      <td>8</td>\n",
       "      <td>5</td>\n",
       "      <td>3</td>\n",
       "      <td>81</td>\n",
       "      <td>26</td>\n",
       "      <td>55</td>\n",
       "      <td>36</td>\n",
       "      <td>5</td>\n",
       "      <td>100</td>\n",
       "      <td>100</td>\n",
       "    </tr>\n",
       "    <tr>\n",
       "      <th>top</th>\n",
       "      <td>3 Bedroom Condo in Aurelia Residences, Taguig</td>\n",
       "      <td>Quezon City, Metro Manila</td>\n",
       "      <td>Henry Sedeño</td>\n",
       "      <td>Sale: ₱ 35,000,000</td>\n",
       "      <td>3</td>\n",
       "      <td>1</td>\n",
       "      <td>0</td>\n",
       "      <td>Unfurnished</td>\n",
       "      <td>from 242 sqm</td>\n",
       "      <td>330 sqm</td>\n",
       "      <td>[Fiber ready]</td>\n",
       "      <td>[]</td>\n",
       "      <td>[School, Hospital, Mall, Transportation hub]</td>\n",
       "      <td>https://propertyaccess.ph/property/3-bedroom-c...</td>\n",
       "      <td>2022-09-27 00:57:33</td>\n",
       "    </tr>\n",
       "    <tr>\n",
       "      <th>freq</th>\n",
       "      <td>4</td>\n",
       "      <td>10</td>\n",
       "      <td>15</td>\n",
       "      <td>2</td>\n",
       "      <td>27</td>\n",
       "      <td>38</td>\n",
       "      <td>34</td>\n",
       "      <td>65</td>\n",
       "      <td>4</td>\n",
       "      <td>2</td>\n",
       "      <td>13</td>\n",
       "      <td>31</td>\n",
       "      <td>47</td>\n",
       "      <td>1</td>\n",
       "      <td>1</td>\n",
       "    </tr>\n",
       "  </tbody>\n",
       "</table>\n",
       "</div>"
      ],
      "text/plain": [
       "                                                 Name  \\\n",
       "count                                             100   \n",
       "unique                                             83   \n",
       "top     3 Bedroom Condo in Aurelia Residences, Taguig   \n",
       "freq                                                4   \n",
       "\n",
       "                          Address        Author               Price Bedrooms  \\\n",
       "count                         100           100                 100       93   \n",
       "unique                         44            27                  96        6   \n",
       "top     Quezon City, Metro Manila  Henry Sedeño  Sale: ₱ 35,000,000        3   \n",
       "freq                           10            15                   2       27   \n",
       "\n",
       "       Showers Parking      Furnish Total Developed Lot Area       Features  \\\n",
       "count       93      93           93             100       28            100   \n",
       "unique       8       5            3              81       26             55   \n",
       "top          1       0  Unfurnished    from 242 sqm  330 sqm  [Fiber ready]   \n",
       "freq        38      34           65               4        2             13   \n",
       "\n",
       "       Facilities                                 Nearby Places  \\\n",
       "count         100                                           100   \n",
       "unique         36                                             5   \n",
       "top            []  [School, Hospital, Mall, Transportation hub]   \n",
       "freq           31                                            47   \n",
       "\n",
       "                                                      URL            Timestamp  \n",
       "count                                                 100                  100  \n",
       "unique                                                100                  100  \n",
       "top     https://propertyaccess.ph/property/3-bedroom-c...  2022-09-27 00:57:33  \n",
       "freq                                                    1                    1  "
      ]
     },
     "execution_count": 15,
     "metadata": {},
     "output_type": "execute_result"
    }
   ],
   "source": [
    "df.describe()"
   ]
  },
  {
   "cell_type": "code",
   "execution_count": 16,
   "id": "d06e7abf",
   "metadata": {
    "ExecuteTime": {
     "end_time": "2022-09-26T17:01:33.024647Z",
     "start_time": "2022-09-26T17:01:33.006044Z"
    }
   },
   "outputs": [],
   "source": [
    "df.to_json('unclean.json', orient='records', indent=2)"
   ]
  },
  {
   "cell_type": "code",
   "execution_count": 17,
   "id": "fabc0fff",
   "metadata": {
    "ExecuteTime": {
     "end_time": "2022-09-26T17:01:33.788962Z",
     "start_time": "2022-09-26T17:01:33.416551Z"
    }
   },
   "outputs": [],
   "source": [
    "driver.close()"
   ]
  },
  {
   "cell_type": "markdown",
   "id": "1a0981b6",
   "metadata": {},
   "source": [
    "## Data Cleaning"
   ]
  },
  {
   "cell_type": "code",
   "execution_count": null,
   "id": "380ae0ce",
   "metadata": {},
   "outputs": [],
   "source": []
  },
  {
   "cell_type": "markdown",
   "id": "0356673a",
   "metadata": {},
   "source": [
    "## Challenges\n",
    "- Having to go to each page in order to get the necessary data (takes longer time)\n",
    "- "
   ]
  },
  {
   "cell_type": "markdown",
   "id": "c5021ec2",
   "metadata": {},
   "source": [
    "## Conclusion\n",
    "- [Does it have personal identifiable information?]\n",
    "- "
   ]
  },
  {
   "cell_type": "code",
   "execution_count": null,
   "id": "18c383fa",
   "metadata": {},
   "outputs": [],
   "source": []
  }
 ],
 "metadata": {
  "kernelspec": {
   "display_name": "Python 3 (ipykernel)",
   "language": "python",
   "name": "python3"
  },
  "language_info": {
   "codemirror_mode": {
    "name": "ipython",
    "version": 3
   },
   "file_extension": ".py",
   "mimetype": "text/x-python",
   "name": "python",
   "nbconvert_exporter": "python",
   "pygments_lexer": "ipython3",
   "version": "3.8.8"
  },
  "toc": {
   "base_numbering": 1,
   "nav_menu": {},
   "number_sections": true,
   "sideBar": true,
   "skip_h1_title": false,
   "title_cell": "Table of Contents",
   "title_sidebar": "Contents",
   "toc_cell": false,
   "toc_position": {},
   "toc_section_display": true,
   "toc_window_display": false
  }
 },
 "nbformat": 4,
 "nbformat_minor": 5
}
