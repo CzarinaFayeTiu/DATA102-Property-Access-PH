{
 "cells": [
  {
   "cell_type": "markdown",
   "id": "e7c3f62b",
   "metadata": {},
   "source": [
    "## Scraping Property Access PH through Selenium\n",
    "This notebook was prepared by Adem Inovejas, Christopher Lim, Czarina Tiu, and Uriel Grace Magtibay (students of DATA102 S11 Y2022-2023).  \n",
    "\n",
    "In your notebook, make sure you have the following details outlined:\n",
    "- The website scraped\n",
    "- Date and time when the data was collected\n",
    "- What were the challenges encountered? You may narrate or illustrate this in the notebook.\n",
    "- Do you think the collected data contains any personally identifiable information (PII)?\n",
    "- Conclude with your key learnings and findings."
   ]
  },
  {
   "cell_type": "markdown",
   "id": "bdad89e3",
   "metadata": {},
   "source": [
    "## Importing Libaries"
   ]
  },
  {
   "cell_type": "code",
   "execution_count": 1,
   "id": "bebebb27",
   "metadata": {
    "ExecuteTime": {
     "end_time": "2022-10-17T09:32:49.366136Z",
     "start_time": "2022-10-17T09:32:48.801905Z"
    }
   },
   "outputs": [],
   "source": [
    "from bs4 import BeautifulSoup\n",
    "import pandas as pd\n",
    "import os\n",
    "import datetime\n",
    "import time\n",
    "\n",
    "from selenium import webdriver\n",
    "from selenium.webdriver.common.keys import Keys\n",
    "from selenium.webdriver.chrome.service import Service\n",
    "from webdriver_manager.chrome import ChromeDriverManager"
   ]
  },
  {
   "cell_type": "markdown",
   "id": "aaee5251",
   "metadata": {},
   "source": [
    "## Setup"
   ]
  },
  {
   "cell_type": "code",
   "execution_count": 2,
   "id": "ff91d067",
   "metadata": {
    "ExecuteTime": {
     "end_time": "2022-10-17T09:32:51.561222Z",
     "start_time": "2022-10-17T09:32:49.367141Z"
    }
   },
   "outputs": [],
   "source": [
    "driver = webdriver.Chrome(service=Service(ChromeDriverManager().install()))"
   ]
  },
  {
   "cell_type": "code",
   "execution_count": 3,
   "id": "69c29000",
   "metadata": {
    "ExecuteTime": {
     "end_time": "2022-10-17T09:32:53.733964Z",
     "start_time": "2022-10-17T09:32:51.562257Z"
    }
   },
   "outputs": [],
   "source": [
    "url = \"https://propertyaccess.ph/offer/sale\"\n",
    "driver.get(url)"
   ]
  },
  {
   "cell_type": "markdown",
   "id": "beface6f",
   "metadata": {},
   "source": [
    "## Data Collection"
   ]
  },
  {
   "cell_type": "markdown",
   "id": "4cccf569",
   "metadata": {},
   "source": [
    "### Collecting  the URLs of each properties"
   ]
  },
  {
   "cell_type": "code",
   "execution_count": null,
   "id": "f01978e1",
   "metadata": {
    "ExecuteTime": {
     "start_time": "2022-10-17T09:32:49.002Z"
    },
    "scrolled": true
   },
   "outputs": [
    {
     "name": "stdout",
     "output_type": "stream",
     "text": [
      "Extracted Page 1 | 20 items found | 0.57s\n"
     ]
    }
   ],
   "source": [
    "has_pages = True\n",
    "pages = 1\n",
    "urls = []\n",
    "total_time = 0\n",
    "while(has_pages):  \n",
    "    start = time.perf_counter()\n",
    "    \n",
    "    products_container = driver.find_element(by=\"xpath\", value='//div[@class=\"list-product page-content\"]')\n",
    "    \n",
    "    # gets the list of products\n",
    "    items = products_container.find_elements(by=\"xpath\", value='.//div[@class=\"product-wrapper\"]')\n",
    "    for item in items:\n",
    "        # get the href of the anchor of \"product-img\"\n",
    "        url = item.find_element(by=\"xpath\", value='.//div[@class=\"product-img\"]/a').get_attribute('href')\n",
    "        date_published = item.find_element(by=\"xpath\", value='.//div[@class=\"date\"]').text\n",
    "        urls.append((url, date_published))\n",
    "    \n",
    "    end = time.perf_counter()\n",
    "    \n",
    "    total_time += end - start\n",
    "    print('Extracted Page %d | %d items found | %.2fs' % (pages, len(items), end - start))\n",
    "    try:\n",
    "        # checks if next page button is available by getting the xpath\n",
    "        next_page = driver.find_element(\"xpath\", value='//ul[@class=\"pargination\"]/li[@class=\"next flex-end\"]/a').get_attribute(\"href\");\n",
    "        driver.get(next_page)\n",
    "        pages += 1\n",
    "    except:\n",
    "        # if next page button is not available, stop the loop\n",
    "        has_pages = False\n",
    "\n",
    "print('Number of pages:', pages)\n",
    "print('Number of products:', len(urls))\n",
    "print('Average Time per page:', total_time / len(urls))\n",
    "print('Total Time:', total_time)"
   ]
  },
  {
   "cell_type": "markdown",
   "id": "e221c5fc",
   "metadata": {},
   "source": [
    "Exporting the URLs through pandas dataframe (as .csv)"
   ]
  },
  {
   "cell_type": "code",
   "execution_count": null,
   "id": "87eec032",
   "metadata": {
    "ExecuteTime": {
     "start_time": "2022-10-17T09:32:49.063Z"
    }
   },
   "outputs": [],
   "source": [
    "df = pd.DataFrame(urls, columns=['URL', 'Date Published'])\n",
    "df.head()"
   ]
  },
  {
   "cell_type": "code",
   "execution_count": null,
   "id": "74ea7b09",
   "metadata": {
    "ExecuteTime": {
     "start_time": "2022-10-17T09:32:49.094Z"
    }
   },
   "outputs": [],
   "source": [
    "df.to_csv('property_urls.csv', index=False)"
   ]
  },
  {
   "cell_type": "markdown",
   "id": "194a8107",
   "metadata": {},
   "source": [
    "### Going through each property page to get the details"
   ]
  },
  {
   "cell_type": "code",
   "execution_count": null,
   "id": "75b70a3c",
   "metadata": {
    "ExecuteTime": {
     "start_time": "2022-10-17T09:32:49.172Z"
    }
   },
   "outputs": [],
   "source": [
    "df = pd.read_csv('property_urls.csv')\n",
    "df.head()"
   ]
  },
  {
   "cell_type": "code",
   "execution_count": null,
   "id": "6f2f5dbd",
   "metadata": {
    "ExecuteTime": {
     "start_time": "2022-10-17T09:32:49.202Z"
    },
    "scrolled": true
   },
   "outputs": [],
   "source": [
    "data = []\n",
    "total_time = 0\n",
    "for i, item in enumerate(list(zip(df['URL'], df['Date Published']))):\n",
    "    try:\n",
    "        start = time.perf_counter()\n",
    "        url, date_published = item\n",
    "        driver.get(url)\n",
    "\n",
    "        # get the container which contains the property details\n",
    "        property_details = driver.find_element(by=\"xpath\", value='//div[@class=\"product-detail-wraper\"]')\n",
    "\n",
    "        # find the name\n",
    "        name = property_details.find_element(by=\"xpath\", value='.//h1[@class=\"basic-info__name\"]').text\n",
    "        address = property_details.find_element(by=\"xpath\", value='.//div[@class=\"basic-info__street\"]').text\n",
    "        price = property_details.find_element(by=\"xpath\", value='.//div[@class=\"basic-info__price\"]').text\n",
    "        author = property_details.find_element(by=\"xpath\", value='.//div[@class=\"agent-name line-clamp lc-2\"]').text\n",
    "\n",
    "        # get the bedrooms, showers, parking, furnish type, total developed and lot area through utility info\n",
    "        utility_info = property_details.find_element(by=\"xpath\", value='.//div[@class=\"basic-info__utilities\"]')\n",
    "\n",
    "        try:\n",
    "            bedrooms = utility_info.find_element(by=\"xpath\", value='//img[@data-src=\"https://cdn.propertyaccess.ph/prod/v1.2.5-fis-hotfix-2/f24d0f0d48276caeca2060fd60abf269.svg\"]/..').text\n",
    "        except:\n",
    "            bedrooms = None\n",
    "\n",
    "        try:\n",
    "            showers = utility_info.find_element(by=\"xpath\", value='//img[@data-src=\"https://cdn.propertyaccess.ph/prod/v1.2.5-fis-hotfix-2/a6e500c94a1eaacdd59fde045fba89f0.svg\"]/..').text\n",
    "        except:\n",
    "            showers = None\n",
    "\n",
    "        try:\n",
    "            furnish = utility_info.find_element(by=\"xpath\", value='//img[@data-src=\"https://cdn.propertyaccess.ph/prod/v1.2.5-fis-hotfix-2/9fb04d2eb34997da34e3dcfd140f51b6.svg\"]/..').text\n",
    "        except:\n",
    "            furnish = None\n",
    "\n",
    "        try:\n",
    "            parking = utility_info.find_element(by=\"xpath\", value='//img[@data-src=\"https://cdn.propertyaccess.ph/prod/v1.2.5-fis-hotfix-2/33d487e03cfed78b821458ab3c39b574.svg\"]/..').text\n",
    "        except:\n",
    "            parking = None\n",
    "\n",
    "        try:\n",
    "            total_developed = utility_info.find_element(by=\"xpath\", value='//img[@data-src=\"https://cdn.propertyaccess.ph/prod/v1.2.5-fis-hotfix-2/57cebe2c8bcb0aa7f604503ddb740621.svg\"]/..').text\n",
    "        except:\n",
    "            total_developed = None\n",
    "\n",
    "        try:\n",
    "            lot_area = utility_info.find_element(by=\"xpath\", value='//img[@data-src=\"https://cdn.propertyaccess.ph/prod/v1.2.5-fis-hotfix-2/da2ffe9d4238be9a3d697b4195b64fe7.svg\"]/..').text\n",
    "        except:\n",
    "            lot_area = None\n",
    "\n",
    "        # if section title is Property Features or Amenities\n",
    "        features = [feature.text for feature in property_details.find_elements(by=\"xpath\", value='.//section[@class=\"product-feature\"]//div[text()=\"Property Features\" or text()=\"Amenities\"]/..//div[@class=\"item-listing readmore-target\"]//p')]\n",
    "\n",
    "        # if section title is Facilities\n",
    "        facilities = [facility.text for facility in property_details.find_elements(by=\"xpath\", value='.//section[@class=\"product-feature\"]//div[text()=\"Facilities\"]/..//div[@class=\"item-listing readmore-target\"]//p')]\n",
    "\n",
    "        # if section title is Nearby Places\n",
    "        nearby_places = [place.text for place in property_details.find_elements(by=\"xpath\", value='.//section[@class=\"product-nearby\"]//div[@class=\"item-title\"]')]\n",
    "\n",
    "        timestamp = datetime.datetime.now().strftime(\"%Y-%m-%d %H:%M:%S\")\n",
    "        \n",
    "        end = time.perf_counter()\n",
    "\n",
    "        total_time += end - start\n",
    "        \n",
    "        print('[%4d] %s | %.2fs' % (i, name, end - start))\n",
    "\n",
    "        data.append((name, address, author, price, bedrooms, showers, parking, furnish, total_developed, lot_area, features, facilities, nearby_places, url, timestamp))\n",
    "    except:\n",
    "        # if page is un-available\n",
    "        print('Error occured on', url)"
   ]
  },
  {
   "cell_type": "code",
   "execution_count": null,
   "id": "167433e3",
   "metadata": {
    "ExecuteTime": {
     "start_time": "2022-10-17T09:32:49.264Z"
    }
   },
   "outputs": [],
   "source": [
    "column_names = ['Name', 'Address', 'Author', 'Price', 'Bedrooms', 'Showers', 'Parking', 'Furnish', 'Total Developed', 'Lot Area', 'Features', 'Facilities', 'Nearby Places', 'URL', 'Timestamp']\n",
    "df = pd.DataFrame(data, columns = column_names)\n",
    "df.head()"
   ]
  },
  {
   "cell_type": "code",
   "execution_count": null,
   "id": "0773d25a",
   "metadata": {
    "ExecuteTime": {
     "start_time": "2022-10-17T09:32:49.294Z"
    }
   },
   "outputs": [],
   "source": [
    "df.describe()"
   ]
  },
  {
   "cell_type": "code",
   "execution_count": null,
   "id": "d06e7abf",
   "metadata": {
    "ExecuteTime": {
     "start_time": "2022-10-17T09:32:50.024Z"
    }
   },
   "outputs": [],
   "source": [
    "df.to_json('unclean.json', orient='records', indent=2)"
   ]
  },
  {
   "cell_type": "code",
   "execution_count": 17,
   "id": "fabc0fff",
   "metadata": {
    "ExecuteTime": {
     "end_time": "2022-09-26T17:01:33.788962Z",
     "start_time": "2022-09-26T17:01:33.416551Z"
    }
   },
   "outputs": [],
   "source": [
    "driver.close()"
   ]
  },
  {
   "cell_type": "markdown",
   "id": "1a0981b6",
   "metadata": {},
   "source": [
    "## Data Cleaning"
   ]
  },
  {
   "cell_type": "code",
   "execution_count": 2,
   "id": "380ae0ce",
   "metadata": {
    "scrolled": true
   },
   "outputs": [
    {
     "data": {
      "text/html": [
       "<div>\n",
       "<style scoped>\n",
       "    .dataframe tbody tr th:only-of-type {\n",
       "        vertical-align: middle;\n",
       "    }\n",
       "\n",
       "    .dataframe tbody tr th {\n",
       "        vertical-align: top;\n",
       "    }\n",
       "\n",
       "    .dataframe thead th {\n",
       "        text-align: right;\n",
       "    }\n",
       "</style>\n",
       "<table border=\"1\" class=\"dataframe\">\n",
       "  <thead>\n",
       "    <tr style=\"text-align: right;\">\n",
       "      <th></th>\n",
       "      <th>Name</th>\n",
       "      <th>Address</th>\n",
       "      <th>Author</th>\n",
       "      <th>Price</th>\n",
       "      <th>Bedrooms</th>\n",
       "      <th>Showers</th>\n",
       "      <th>Parking</th>\n",
       "      <th>Furnish</th>\n",
       "      <th>Total Developed</th>\n",
       "      <th>Lot Area</th>\n",
       "      <th>Features</th>\n",
       "      <th>Facilities</th>\n",
       "      <th>Nearby Places</th>\n",
       "      <th>URL</th>\n",
       "      <th>Timestamp</th>\n",
       "    </tr>\n",
       "  </thead>\n",
       "  <tbody>\n",
       "    <tr>\n",
       "      <th>0</th>\n",
       "      <td>3 Bedroom Condo in Aurelia Residences, Taguig</td>\n",
       "      <td>McKinley Parkway, Taguig, Metro Manila</td>\n",
       "      <td>Shang Properties</td>\n",
       "      <td>Sale: from ₱ 107,300,000</td>\n",
       "      <td>3</td>\n",
       "      <td>4</td>\n",
       "      <td>2</td>\n",
       "      <td>Unfurnished</td>\n",
       "      <td>from 242 sqm</td>\n",
       "      <td>None</td>\n",
       "      <td>[Central air conditioning, Balcony, Built-in w...</td>\n",
       "      <td>[Security, CCTV, Entertainment Area, Fitness C...</td>\n",
       "      <td>[School, Hospital, Mall, Transportation hub]</td>\n",
       "      <td>https://propertyaccess.ph/property/3-bedroom-c...</td>\n",
       "      <td>2022-09-27 00:57:33</td>\n",
       "    </tr>\n",
       "    <tr>\n",
       "      <th>1</th>\n",
       "      <td>3 Bedroom Condo in Shang Residences at Wack Wa...</td>\n",
       "      <td>Wack Wack Road, Mandaluyong, Metro Manila</td>\n",
       "      <td>Shang Properties</td>\n",
       "      <td>Sale: from ₱ 54,500,000</td>\n",
       "      <td>3</td>\n",
       "      <td>4</td>\n",
       "      <td>3</td>\n",
       "      <td>Unfurnished</td>\n",
       "      <td>from 231 sqm</td>\n",
       "      <td>None</td>\n",
       "      <td>[Central air conditioning, Balcony, Built-in w...</td>\n",
       "      <td>[Security, CCTV, Club House, Entertainment Are...</td>\n",
       "      <td>[School, Hospital, Mall, Transportation hub]</td>\n",
       "      <td>https://propertyaccess.ph/property/3-bedroom-c...</td>\n",
       "      <td>2022-09-27 00:57:34</td>\n",
       "    </tr>\n",
       "    <tr>\n",
       "      <th>2</th>\n",
       "      <td>2BR Condo in Residences at The Galleon, Pasig</td>\n",
       "      <td></td>\n",
       "      <td>Ortigas Land</td>\n",
       "      <td>Sale: from ₱ 41,500,000</td>\n",
       "      <td>2</td>\n",
       "      <td>2</td>\n",
       "      <td>2</td>\n",
       "      <td>Unfurnished</td>\n",
       "      <td>from 109 sqm</td>\n",
       "      <td>None</td>\n",
       "      <td>[Central air conditioning, Balcony, Built-in w...</td>\n",
       "      <td>[Security, CCTV, Clubhouse, Connected to mall,...</td>\n",
       "      <td>[School, Hospital, Mall, Transportation hub]</td>\n",
       "      <td>https://propertyaccess.ph/property/2br-condo-i...</td>\n",
       "      <td>2022-09-27 00:57:36</td>\n",
       "    </tr>\n",
       "    <tr>\n",
       "      <th>3</th>\n",
       "      <td>Penthouse in Residences at The Galleon, Pasig</td>\n",
       "      <td>ADB Avenue, Pasig, Metro Manila</td>\n",
       "      <td>Ortigas Land</td>\n",
       "      <td>Sale: from ₱ 111,500,000</td>\n",
       "      <td>3</td>\n",
       "      <td>4</td>\n",
       "      <td>4+</td>\n",
       "      <td>Unfurnished</td>\n",
       "      <td>from 268 sqm</td>\n",
       "      <td>None</td>\n",
       "      <td>[Central air conditioning, Balcony, Built-in w...</td>\n",
       "      <td>[Security, CCTV, Clubhouse, Connected to mall,...</td>\n",
       "      <td>[School, Hospital, Mall, Transportation hub]</td>\n",
       "      <td>https://propertyaccess.ph/property/penthouse-i...</td>\n",
       "      <td>2022-09-27 00:57:38</td>\n",
       "    </tr>\n",
       "    <tr>\n",
       "      <th>4</th>\n",
       "      <td>3 Bedroom Condo in Aurelia Residences, Taguig</td>\n",
       "      <td>McKinley Parkway, Taguig, Metro Manila</td>\n",
       "      <td>Shang Properties</td>\n",
       "      <td>Sale: from ₱ 181,302,240</td>\n",
       "      <td>3</td>\n",
       "      <td>4</td>\n",
       "      <td>3</td>\n",
       "      <td>Unfurnished</td>\n",
       "      <td>from 337 sqm</td>\n",
       "      <td>None</td>\n",
       "      <td>[Central air conditioning]</td>\n",
       "      <td>[Security, CCTV, Entertainment Area, Fitness C...</td>\n",
       "      <td>[School, Hospital, Mall, Transportation hub]</td>\n",
       "      <td>https://propertyaccess.ph/property/3-bedroom-c...</td>\n",
       "      <td>2022-09-27 00:57:47</td>\n",
       "    </tr>\n",
       "    <tr>\n",
       "      <th>...</th>\n",
       "      <td>...</td>\n",
       "      <td>...</td>\n",
       "      <td>...</td>\n",
       "      <td>...</td>\n",
       "      <td>...</td>\n",
       "      <td>...</td>\n",
       "      <td>...</td>\n",
       "      <td>...</td>\n",
       "      <td>...</td>\n",
       "      <td>...</td>\n",
       "      <td>...</td>\n",
       "      <td>...</td>\n",
       "      <td>...</td>\n",
       "      <td>...</td>\n",
       "      <td>...</td>\n",
       "    </tr>\n",
       "    <tr>\n",
       "      <th>95</th>\n",
       "      <td>Residential Lot, Calabarzon</td>\n",
       "      <td>Calabarzon</td>\n",
       "      <td>Alyssa Barroso</td>\n",
       "      <td>Sale: ₱ 7,700,000</td>\n",
       "      <td>None</td>\n",
       "      <td>None</td>\n",
       "      <td>None</td>\n",
       "      <td>None</td>\n",
       "      <td>from 242 sqm</td>\n",
       "      <td>275 sqm</td>\n",
       "      <td>[]</td>\n",
       "      <td>[]</td>\n",
       "      <td>[]</td>\n",
       "      <td>https://propertyaccess.ph/property/residential...</td>\n",
       "      <td>2022-09-27 01:00:06</td>\n",
       "    </tr>\n",
       "    <tr>\n",
       "      <th>96</th>\n",
       "      <td>3 Bedroom Condo in Avida Cityflex Towers, Taguig</td>\n",
       "      <td>Taguig, Metro Manila</td>\n",
       "      <td>Christine Li</td>\n",
       "      <td>Sale: ₱ 15,000,000</td>\n",
       "      <td>3</td>\n",
       "      <td>1</td>\n",
       "      <td>0</td>\n",
       "      <td>Furnished</td>\n",
       "      <td>76 sqm</td>\n",
       "      <td>None</td>\n",
       "      <td>[Central air conditioning, Maid’s Room, Range ...</td>\n",
       "      <td>[Fitness Center, Garden/Lanai, Lobby, Play Are...</td>\n",
       "      <td>[School, Hospital, Mall]</td>\n",
       "      <td>https://propertyaccess.ph/property/3-bedroom-c...</td>\n",
       "      <td>2022-09-27 01:00:08</td>\n",
       "    </tr>\n",
       "    <tr>\n",
       "      <th>97</th>\n",
       "      <td>Office Space, Makati</td>\n",
       "      <td>V.A. Rufino Street, Makati, Metro Manila</td>\n",
       "      <td>RBK Property Consultants Inc.</td>\n",
       "      <td>Sale: ₱ 35,000,000</td>\n",
       "      <td>None</td>\n",
       "      <td>None</td>\n",
       "      <td>None</td>\n",
       "      <td>None</td>\n",
       "      <td>219 sqm</td>\n",
       "      <td>None</td>\n",
       "      <td>[]</td>\n",
       "      <td>[Security, Building Reception Area, CCTV, Dini...</td>\n",
       "      <td>[]</td>\n",
       "      <td>https://propertyaccess.ph/property/office-spac...</td>\n",
       "      <td>2022-09-27 01:00:10</td>\n",
       "    </tr>\n",
       "    <tr>\n",
       "      <th>98</th>\n",
       "      <td>Office Space, Makati</td>\n",
       "      <td>V.A. Rufino Street, Makati, Metro Manila</td>\n",
       "      <td>RBK Property Consultants Inc.</td>\n",
       "      <td>Sale: ₱ 58,000,000</td>\n",
       "      <td>None</td>\n",
       "      <td>None</td>\n",
       "      <td>None</td>\n",
       "      <td>None</td>\n",
       "      <td>213 sqm</td>\n",
       "      <td>None</td>\n",
       "      <td>[]</td>\n",
       "      <td>[Security, Building Reception Area, CCTV, Dini...</td>\n",
       "      <td>[]</td>\n",
       "      <td>https://propertyaccess.ph/property/office-spac...</td>\n",
       "      <td>2022-09-27 01:00:12</td>\n",
       "    </tr>\n",
       "    <tr>\n",
       "      <th>99</th>\n",
       "      <td>2 Bedroom House &amp; Lot, Malolos</td>\n",
       "      <td>Malolos, Central Luzon</td>\n",
       "      <td>CHRISTIAN DE LEON</td>\n",
       "      <td>Sale: ₱ 3,024,000</td>\n",
       "      <td>2</td>\n",
       "      <td>2</td>\n",
       "      <td>1</td>\n",
       "      <td>Unfurnished</td>\n",
       "      <td>52 sqm</td>\n",
       "      <td>96 sqm</td>\n",
       "      <td>[Balcony, Dirty Kitchen, Fiber ready, Fully Fe...</td>\n",
       "      <td>[]</td>\n",
       "      <td>[]</td>\n",
       "      <td>https://propertyaccess.ph/property/2-bedroom-h...</td>\n",
       "      <td>2022-09-27 01:00:14</td>\n",
       "    </tr>\n",
       "  </tbody>\n",
       "</table>\n",
       "<p>100 rows × 15 columns</p>\n",
       "</div>"
      ],
      "text/plain": [
       "                                                 Name  \\\n",
       "0       3 Bedroom Condo in Aurelia Residences, Taguig   \n",
       "1   3 Bedroom Condo in Shang Residences at Wack Wa...   \n",
       "2       2BR Condo in Residences at The Galleon, Pasig   \n",
       "3       Penthouse in Residences at The Galleon, Pasig   \n",
       "4       3 Bedroom Condo in Aurelia Residences, Taguig   \n",
       "..                                                ...   \n",
       "95                        Residential Lot, Calabarzon   \n",
       "96   3 Bedroom Condo in Avida Cityflex Towers, Taguig   \n",
       "97                               Office Space, Makati   \n",
       "98                               Office Space, Makati   \n",
       "99                     2 Bedroom House & Lot, Malolos   \n",
       "\n",
       "                                      Address                         Author  \\\n",
       "0      McKinley Parkway, Taguig, Metro Manila               Shang Properties   \n",
       "1   Wack Wack Road, Mandaluyong, Metro Manila               Shang Properties   \n",
       "2                                                               Ortigas Land   \n",
       "3             ADB Avenue, Pasig, Metro Manila                   Ortigas Land   \n",
       "4      McKinley Parkway, Taguig, Metro Manila               Shang Properties   \n",
       "..                                        ...                            ...   \n",
       "95                                 Calabarzon                 Alyssa Barroso   \n",
       "96                       Taguig, Metro Manila                   Christine Li   \n",
       "97   V.A. Rufino Street, Makati, Metro Manila  RBK Property Consultants Inc.   \n",
       "98   V.A. Rufino Street, Makati, Metro Manila  RBK Property Consultants Inc.   \n",
       "99                     Malolos, Central Luzon              CHRISTIAN DE LEON   \n",
       "\n",
       "                       Price Bedrooms Showers Parking      Furnish  \\\n",
       "0   Sale: from ₱ 107,300,000        3       4       2  Unfurnished   \n",
       "1    Sale: from ₱ 54,500,000        3       4       3  Unfurnished   \n",
       "2    Sale: from ₱ 41,500,000        2       2       2  Unfurnished   \n",
       "3   Sale: from ₱ 111,500,000        3       4      4+  Unfurnished   \n",
       "4   Sale: from ₱ 181,302,240        3       4       3  Unfurnished   \n",
       "..                       ...      ...     ...     ...          ...   \n",
       "95         Sale: ₱ 7,700,000     None    None    None         None   \n",
       "96        Sale: ₱ 15,000,000        3       1       0    Furnished   \n",
       "97        Sale: ₱ 35,000,000     None    None    None         None   \n",
       "98        Sale: ₱ 58,000,000     None    None    None         None   \n",
       "99         Sale: ₱ 3,024,000        2       2       1  Unfurnished   \n",
       "\n",
       "   Total Developed Lot Area  \\\n",
       "0     from 242 sqm     None   \n",
       "1     from 231 sqm     None   \n",
       "2     from 109 sqm     None   \n",
       "3     from 268 sqm     None   \n",
       "4     from 337 sqm     None   \n",
       "..             ...      ...   \n",
       "95    from 242 sqm  275 sqm   \n",
       "96          76 sqm     None   \n",
       "97         219 sqm     None   \n",
       "98         213 sqm     None   \n",
       "99          52 sqm   96 sqm   \n",
       "\n",
       "                                             Features  \\\n",
       "0   [Central air conditioning, Balcony, Built-in w...   \n",
       "1   [Central air conditioning, Balcony, Built-in w...   \n",
       "2   [Central air conditioning, Balcony, Built-in w...   \n",
       "3   [Central air conditioning, Balcony, Built-in w...   \n",
       "4                          [Central air conditioning]   \n",
       "..                                                ...   \n",
       "95                                                 []   \n",
       "96  [Central air conditioning, Maid’s Room, Range ...   \n",
       "97                                                 []   \n",
       "98                                                 []   \n",
       "99  [Balcony, Dirty Kitchen, Fiber ready, Fully Fe...   \n",
       "\n",
       "                                           Facilities  \\\n",
       "0   [Security, CCTV, Entertainment Area, Fitness C...   \n",
       "1   [Security, CCTV, Club House, Entertainment Are...   \n",
       "2   [Security, CCTV, Clubhouse, Connected to mall,...   \n",
       "3   [Security, CCTV, Clubhouse, Connected to mall,...   \n",
       "4   [Security, CCTV, Entertainment Area, Fitness C...   \n",
       "..                                                ...   \n",
       "95                                                 []   \n",
       "96  [Fitness Center, Garden/Lanai, Lobby, Play Are...   \n",
       "97  [Security, Building Reception Area, CCTV, Dini...   \n",
       "98  [Security, Building Reception Area, CCTV, Dini...   \n",
       "99                                                 []   \n",
       "\n",
       "                                   Nearby Places  \\\n",
       "0   [School, Hospital, Mall, Transportation hub]   \n",
       "1   [School, Hospital, Mall, Transportation hub]   \n",
       "2   [School, Hospital, Mall, Transportation hub]   \n",
       "3   [School, Hospital, Mall, Transportation hub]   \n",
       "4   [School, Hospital, Mall, Transportation hub]   \n",
       "..                                           ...   \n",
       "95                                            []   \n",
       "96                      [School, Hospital, Mall]   \n",
       "97                                            []   \n",
       "98                                            []   \n",
       "99                                            []   \n",
       "\n",
       "                                                  URL           Timestamp  \n",
       "0   https://propertyaccess.ph/property/3-bedroom-c... 2022-09-27 00:57:33  \n",
       "1   https://propertyaccess.ph/property/3-bedroom-c... 2022-09-27 00:57:34  \n",
       "2   https://propertyaccess.ph/property/2br-condo-i... 2022-09-27 00:57:36  \n",
       "3   https://propertyaccess.ph/property/penthouse-i... 2022-09-27 00:57:38  \n",
       "4   https://propertyaccess.ph/property/3-bedroom-c... 2022-09-27 00:57:47  \n",
       "..                                                ...                 ...  \n",
       "95  https://propertyaccess.ph/property/residential... 2022-09-27 01:00:06  \n",
       "96  https://propertyaccess.ph/property/3-bedroom-c... 2022-09-27 01:00:08  \n",
       "97  https://propertyaccess.ph/property/office-spac... 2022-09-27 01:00:10  \n",
       "98  https://propertyaccess.ph/property/office-spac... 2022-09-27 01:00:12  \n",
       "99  https://propertyaccess.ph/property/2-bedroom-h... 2022-09-27 01:00:14  \n",
       "\n",
       "[100 rows x 15 columns]"
      ]
     },
     "execution_count": 2,
     "metadata": {},
     "output_type": "execute_result"
    }
   ],
   "source": [
    "data = pd.read_json('unclean.json')\n",
    "data"
   ]
  },
  {
   "cell_type": "code",
   "execution_count": 3,
   "id": "7906f54a",
   "metadata": {},
   "outputs": [
    {
     "name": "stdout",
     "output_type": "stream",
     "text": [
      "<class 'pandas.core.frame.DataFrame'>\n",
      "RangeIndex: 100 entries, 0 to 99\n",
      "Data columns (total 15 columns):\n",
      " #   Column           Non-Null Count  Dtype         \n",
      "---  ------           --------------  -----         \n",
      " 0   Name             100 non-null    object        \n",
      " 1   Address          100 non-null    object        \n",
      " 2   Author           100 non-null    object        \n",
      " 3   Price            100 non-null    object        \n",
      " 4   Bedrooms         93 non-null     object        \n",
      " 5   Showers          93 non-null     object        \n",
      " 6   Parking          93 non-null     object        \n",
      " 7   Furnish          93 non-null     object        \n",
      " 8   Total Developed  100 non-null    object        \n",
      " 9   Lot Area         28 non-null     object        \n",
      " 10  Features         100 non-null    object        \n",
      " 11  Facilities       100 non-null    object        \n",
      " 12  Nearby Places    100 non-null    object        \n",
      " 13  URL              100 non-null    object        \n",
      " 14  Timestamp        100 non-null    datetime64[ns]\n",
      "dtypes: datetime64[ns](1), object(14)\n",
      "memory usage: 11.8+ KB\n"
     ]
    }
   ],
   "source": [
    "data.info()"
   ]
  },
  {
   "cell_type": "code",
   "execution_count": 4,
   "id": "a1f9838a",
   "metadata": {},
   "outputs": [],
   "source": [
    "data['Price'] = data['Price'].str.replace('Sale: from ₱ ','')\n",
    "data['Price'] = data['Price'].str.replace('Sale: ₱ ','')"
   ]
  },
  {
   "cell_type": "code",
   "execution_count": 5,
   "id": "2884b72c",
   "metadata": {},
   "outputs": [],
   "source": [
    "data['Price'] = data['Price'].str.replace(',','').astype(int)"
   ]
  },
  {
   "cell_type": "code",
   "execution_count": 6,
   "id": "5e85d190",
   "metadata": {},
   "outputs": [
    {
     "data": {
      "text/plain": [
       "0     107300000\n",
       "1      54500000\n",
       "2      41500000\n",
       "3     111500000\n",
       "4     181302240\n",
       "        ...    \n",
       "95      7700000\n",
       "96     15000000\n",
       "97     35000000\n",
       "98     58000000\n",
       "99      3024000\n",
       "Name: Price, Length: 100, dtype: int64"
      ]
     },
     "execution_count": 6,
     "metadata": {},
     "output_type": "execute_result"
    }
   ],
   "source": [
    "data['Price']"
   ]
  },
  {
   "cell_type": "code",
   "execution_count": 7,
   "id": "d66daa54",
   "metadata": {},
   "outputs": [],
   "source": [
    "data['Total Developed'] = data['Total Developed'].str.replace('from','')\n",
    "data['Total Developed'] = data['Total Developed'].str.replace('sqm','').astype(int)"
   ]
  },
  {
   "cell_type": "code",
   "execution_count": 8,
   "id": "67c6f0d5",
   "metadata": {},
   "outputs": [
    {
     "data": {
      "text/plain": [
       "0     242\n",
       "1     231\n",
       "2     109\n",
       "3     268\n",
       "4     337\n",
       "     ... \n",
       "95    242\n",
       "96     76\n",
       "97    219\n",
       "98    213\n",
       "99     52\n",
       "Name: Total Developed, Length: 100, dtype: int64"
      ]
     },
     "execution_count": 8,
     "metadata": {},
     "output_type": "execute_result"
    }
   ],
   "source": [
    "data['Total Developed']"
   ]
  },
  {
   "cell_type": "code",
   "execution_count": 9,
   "id": "ffef8257",
   "metadata": {},
   "outputs": [
    {
     "data": {
      "text/html": [
       "<div>\n",
       "<style scoped>\n",
       "    .dataframe tbody tr th:only-of-type {\n",
       "        vertical-align: middle;\n",
       "    }\n",
       "\n",
       "    .dataframe tbody tr th {\n",
       "        vertical-align: top;\n",
       "    }\n",
       "\n",
       "    .dataframe thead th {\n",
       "        text-align: right;\n",
       "    }\n",
       "</style>\n",
       "<table border=\"1\" class=\"dataframe\">\n",
       "  <thead>\n",
       "    <tr style=\"text-align: right;\">\n",
       "      <th></th>\n",
       "      <th>Name</th>\n",
       "      <th>Address</th>\n",
       "      <th>Author</th>\n",
       "      <th>Price</th>\n",
       "      <th>Bedrooms</th>\n",
       "      <th>Showers</th>\n",
       "      <th>Parking</th>\n",
       "      <th>Furnish</th>\n",
       "      <th>Total Developed</th>\n",
       "      <th>Lot Area</th>\n",
       "      <th>Features</th>\n",
       "      <th>Facilities</th>\n",
       "      <th>Nearby Places</th>\n",
       "      <th>URL</th>\n",
       "      <th>Timestamp</th>\n",
       "    </tr>\n",
       "  </thead>\n",
       "  <tbody>\n",
       "    <tr>\n",
       "      <th>0</th>\n",
       "      <td>3 Bedroom Condo in Aurelia Residences, Taguig</td>\n",
       "      <td>McKinley Parkway, Taguig, Metro Manila</td>\n",
       "      <td>Shang Properties</td>\n",
       "      <td>107300000</td>\n",
       "      <td>3</td>\n",
       "      <td>4</td>\n",
       "      <td>2</td>\n",
       "      <td>Unfurnished</td>\n",
       "      <td>242</td>\n",
       "      <td>None</td>\n",
       "      <td>[Central air conditioning, Balcony, Built-in w...</td>\n",
       "      <td>[Security, CCTV, Entertainment Area, Fitness C...</td>\n",
       "      <td>[School, Hospital, Mall, Transportation hub]</td>\n",
       "      <td>https://propertyaccess.ph/property/3-bedroom-c...</td>\n",
       "      <td>2022-09-27 00:57:33</td>\n",
       "    </tr>\n",
       "    <tr>\n",
       "      <th>1</th>\n",
       "      <td>3 Bedroom Condo in Shang Residences at Wack Wa...</td>\n",
       "      <td>Wack Wack Road, Mandaluyong, Metro Manila</td>\n",
       "      <td>Shang Properties</td>\n",
       "      <td>54500000</td>\n",
       "      <td>3</td>\n",
       "      <td>4</td>\n",
       "      <td>3</td>\n",
       "      <td>Unfurnished</td>\n",
       "      <td>231</td>\n",
       "      <td>None</td>\n",
       "      <td>[Central air conditioning, Balcony, Built-in w...</td>\n",
       "      <td>[Security, CCTV, Club House, Entertainment Are...</td>\n",
       "      <td>[School, Hospital, Mall, Transportation hub]</td>\n",
       "      <td>https://propertyaccess.ph/property/3-bedroom-c...</td>\n",
       "      <td>2022-09-27 00:57:34</td>\n",
       "    </tr>\n",
       "    <tr>\n",
       "      <th>2</th>\n",
       "      <td>2BR Condo in Residences at The Galleon, Pasig</td>\n",
       "      <td></td>\n",
       "      <td>Ortigas Land</td>\n",
       "      <td>41500000</td>\n",
       "      <td>2</td>\n",
       "      <td>2</td>\n",
       "      <td>2</td>\n",
       "      <td>Unfurnished</td>\n",
       "      <td>109</td>\n",
       "      <td>None</td>\n",
       "      <td>[Central air conditioning, Balcony, Built-in w...</td>\n",
       "      <td>[Security, CCTV, Clubhouse, Connected to mall,...</td>\n",
       "      <td>[School, Hospital, Mall, Transportation hub]</td>\n",
       "      <td>https://propertyaccess.ph/property/2br-condo-i...</td>\n",
       "      <td>2022-09-27 00:57:36</td>\n",
       "    </tr>\n",
       "    <tr>\n",
       "      <th>3</th>\n",
       "      <td>Penthouse in Residences at The Galleon, Pasig</td>\n",
       "      <td>ADB Avenue, Pasig, Metro Manila</td>\n",
       "      <td>Ortigas Land</td>\n",
       "      <td>111500000</td>\n",
       "      <td>3</td>\n",
       "      <td>4</td>\n",
       "      <td>4+</td>\n",
       "      <td>Unfurnished</td>\n",
       "      <td>268</td>\n",
       "      <td>None</td>\n",
       "      <td>[Central air conditioning, Balcony, Built-in w...</td>\n",
       "      <td>[Security, CCTV, Clubhouse, Connected to mall,...</td>\n",
       "      <td>[School, Hospital, Mall, Transportation hub]</td>\n",
       "      <td>https://propertyaccess.ph/property/penthouse-i...</td>\n",
       "      <td>2022-09-27 00:57:38</td>\n",
       "    </tr>\n",
       "    <tr>\n",
       "      <th>4</th>\n",
       "      <td>3 Bedroom Condo in Aurelia Residences, Taguig</td>\n",
       "      <td>McKinley Parkway, Taguig, Metro Manila</td>\n",
       "      <td>Shang Properties</td>\n",
       "      <td>181302240</td>\n",
       "      <td>3</td>\n",
       "      <td>4</td>\n",
       "      <td>3</td>\n",
       "      <td>Unfurnished</td>\n",
       "      <td>337</td>\n",
       "      <td>None</td>\n",
       "      <td>[Central air conditioning]</td>\n",
       "      <td>[Security, CCTV, Entertainment Area, Fitness C...</td>\n",
       "      <td>[School, Hospital, Mall, Transportation hub]</td>\n",
       "      <td>https://propertyaccess.ph/property/3-bedroom-c...</td>\n",
       "      <td>2022-09-27 00:57:47</td>\n",
       "    </tr>\n",
       "  </tbody>\n",
       "</table>\n",
       "</div>"
      ],
      "text/plain": [
       "                                                Name  \\\n",
       "0      3 Bedroom Condo in Aurelia Residences, Taguig   \n",
       "1  3 Bedroom Condo in Shang Residences at Wack Wa...   \n",
       "2      2BR Condo in Residences at The Galleon, Pasig   \n",
       "3      Penthouse in Residences at The Galleon, Pasig   \n",
       "4      3 Bedroom Condo in Aurelia Residences, Taguig   \n",
       "\n",
       "                                     Address            Author      Price  \\\n",
       "0     McKinley Parkway, Taguig, Metro Manila  Shang Properties  107300000   \n",
       "1  Wack Wack Road, Mandaluyong, Metro Manila  Shang Properties   54500000   \n",
       "2                                                 Ortigas Land   41500000   \n",
       "3            ADB Avenue, Pasig, Metro Manila      Ortigas Land  111500000   \n",
       "4     McKinley Parkway, Taguig, Metro Manila  Shang Properties  181302240   \n",
       "\n",
       "  Bedrooms Showers Parking      Furnish  Total Developed Lot Area  \\\n",
       "0        3       4       2  Unfurnished              242     None   \n",
       "1        3       4       3  Unfurnished              231     None   \n",
       "2        2       2       2  Unfurnished              109     None   \n",
       "3        3       4      4+  Unfurnished              268     None   \n",
       "4        3       4       3  Unfurnished              337     None   \n",
       "\n",
       "                                            Features  \\\n",
       "0  [Central air conditioning, Balcony, Built-in w...   \n",
       "1  [Central air conditioning, Balcony, Built-in w...   \n",
       "2  [Central air conditioning, Balcony, Built-in w...   \n",
       "3  [Central air conditioning, Balcony, Built-in w...   \n",
       "4                         [Central air conditioning]   \n",
       "\n",
       "                                          Facilities  \\\n",
       "0  [Security, CCTV, Entertainment Area, Fitness C...   \n",
       "1  [Security, CCTV, Club House, Entertainment Are...   \n",
       "2  [Security, CCTV, Clubhouse, Connected to mall,...   \n",
       "3  [Security, CCTV, Clubhouse, Connected to mall,...   \n",
       "4  [Security, CCTV, Entertainment Area, Fitness C...   \n",
       "\n",
       "                                  Nearby Places  \\\n",
       "0  [School, Hospital, Mall, Transportation hub]   \n",
       "1  [School, Hospital, Mall, Transportation hub]   \n",
       "2  [School, Hospital, Mall, Transportation hub]   \n",
       "3  [School, Hospital, Mall, Transportation hub]   \n",
       "4  [School, Hospital, Mall, Transportation hub]   \n",
       "\n",
       "                                                 URL           Timestamp  \n",
       "0  https://propertyaccess.ph/property/3-bedroom-c... 2022-09-27 00:57:33  \n",
       "1  https://propertyaccess.ph/property/3-bedroom-c... 2022-09-27 00:57:34  \n",
       "2  https://propertyaccess.ph/property/2br-condo-i... 2022-09-27 00:57:36  \n",
       "3  https://propertyaccess.ph/property/penthouse-i... 2022-09-27 00:57:38  \n",
       "4  https://propertyaccess.ph/property/3-bedroom-c... 2022-09-27 00:57:47  "
      ]
     },
     "execution_count": 9,
     "metadata": {},
     "output_type": "execute_result"
    }
   ],
   "source": [
    "data.head()"
   ]
  },
  {
   "cell_type": "code",
   "execution_count": 10,
   "id": "8dd26c18",
   "metadata": {},
   "outputs": [],
   "source": [
    "data['Timestamp'] = pd.to_datetime(data['Timestamp']).dt.date"
   ]
  },
  {
   "cell_type": "code",
   "execution_count": 11,
   "id": "3a993ada",
   "metadata": {},
   "outputs": [
    {
     "data": {
      "text/plain": [
       "0     2022-09-27\n",
       "1     2022-09-27\n",
       "2     2022-09-27\n",
       "3     2022-09-27\n",
       "4     2022-09-27\n",
       "         ...    \n",
       "95    2022-09-27\n",
       "96    2022-09-27\n",
       "97    2022-09-27\n",
       "98    2022-09-27\n",
       "99    2022-09-27\n",
       "Name: Timestamp, Length: 100, dtype: object"
      ]
     },
     "execution_count": 11,
     "metadata": {},
     "output_type": "execute_result"
    }
   ],
   "source": [
    "data['Timestamp']"
   ]
  },
  {
   "cell_type": "code",
   "execution_count": 12,
   "id": "a08a6f05",
   "metadata": {
    "scrolled": true
   },
   "outputs": [
    {
     "data": {
      "text/plain": [
       "Name                0\n",
       "Address             0\n",
       "Author              0\n",
       "Price               0\n",
       "Bedrooms            7\n",
       "Showers             7\n",
       "Parking             7\n",
       "Furnish             7\n",
       "Total Developed     0\n",
       "Lot Area           72\n",
       "Features            0\n",
       "Facilities          0\n",
       "Nearby Places       0\n",
       "URL                 0\n",
       "Timestamp           0\n",
       "dtype: int64"
      ]
     },
     "execution_count": 12,
     "metadata": {},
     "output_type": "execute_result"
    }
   ],
   "source": [
    "# Checking null values per column\n",
    "data.isna().sum()"
   ]
  },
  {
   "cell_type": "code",
   "execution_count": 13,
   "id": "450ba1ee",
   "metadata": {},
   "outputs": [],
   "source": [
    "data=data.fillna(0)"
   ]
  },
  {
   "cell_type": "code",
   "execution_count": 14,
   "id": "c3bb61aa",
   "metadata": {},
   "outputs": [
    {
     "data": {
      "text/plain": [
       "Name               0\n",
       "Address            0\n",
       "Author             0\n",
       "Price              0\n",
       "Bedrooms           0\n",
       "Showers            0\n",
       "Parking            0\n",
       "Furnish            0\n",
       "Total Developed    0\n",
       "Lot Area           0\n",
       "Features           0\n",
       "Facilities         0\n",
       "Nearby Places      0\n",
       "URL                0\n",
       "Timestamp          0\n",
       "dtype: int64"
      ]
     },
     "execution_count": 14,
     "metadata": {},
     "output_type": "execute_result"
    }
   ],
   "source": [
    "data.isna().sum()"
   ]
  },
  {
   "cell_type": "code",
   "execution_count": 15,
   "id": "7d187ff0",
   "metadata": {},
   "outputs": [],
   "source": [
    "data['Lot Area'] = data['Lot Area'].str.replace(' sqm','')"
   ]
  },
  {
   "cell_type": "code",
   "execution_count": 16,
   "id": "1ddfa3ef",
   "metadata": {},
   "outputs": [],
   "source": [
    "data['Lot Area'] = data['Lot Area'].fillna(0)"
   ]
  },
  {
   "cell_type": "code",
   "execution_count": 17,
   "id": "cf0bbf6f",
   "metadata": {},
   "outputs": [],
   "source": [
    "data['Lot Area'] = data['Lot Area'].astype(int)"
   ]
  },
  {
   "cell_type": "code",
   "execution_count": 18,
   "id": "ef2013e7",
   "metadata": {},
   "outputs": [
    {
     "name": "stderr",
     "output_type": "stream",
     "text": [
      "/var/folders/b5/583sbyw12yqf8bss252d8ndc0000gn/T/ipykernel_46913/1857973885.py:1: FutureWarning: The default value of regex will change from True to False in a future version. In addition, single character regular expressions will *not* be treated as literal strings when regex=True.\n",
      "  data['Showers'] = data['Showers'].str.replace('+','')\n",
      "/var/folders/b5/583sbyw12yqf8bss252d8ndc0000gn/T/ipykernel_46913/1857973885.py:2: FutureWarning: The default value of regex will change from True to False in a future version. In addition, single character regular expressions will *not* be treated as literal strings when regex=True.\n",
      "  data['Parking'] = data['Parking'].str.replace('+','')\n",
      "/var/folders/b5/583sbyw12yqf8bss252d8ndc0000gn/T/ipykernel_46913/1857973885.py:3: FutureWarning: The default value of regex will change from True to False in a future version. In addition, single character regular expressions will *not* be treated as literal strings when regex=True.\n",
      "  data['Bedrooms'] = data['Bedrooms'].str.replace('+','')\n"
     ]
    }
   ],
   "source": [
    "data['Showers'] = data['Showers'].str.replace('+','')\n",
    "data['Parking'] = data['Parking'].str.replace('+','')\n",
    "data['Bedrooms'] = data['Bedrooms'].str.replace('+','')"
   ]
  },
  {
   "cell_type": "code",
   "execution_count": 19,
   "id": "5fda861a",
   "metadata": {},
   "outputs": [
    {
     "ename": "ValueError",
     "evalue": "could not convert string to float: 'Studio'",
     "output_type": "error",
     "traceback": [
      "\u001b[0;31m---------------------------------------------------------------------------\u001b[0m",
      "\u001b[0;31mValueError\u001b[0m                                Traceback (most recent call last)",
      "\u001b[0;32m/var/folders/b5/583sbyw12yqf8bss252d8ndc0000gn/T/ipykernel_46913/2569611494.py\u001b[0m in \u001b[0;36m<module>\u001b[0;34m\u001b[0m\n\u001b[1;32m      1\u001b[0m \u001b[0mdata\u001b[0m\u001b[0;34m[\u001b[0m\u001b[0;34m'Showers'\u001b[0m\u001b[0;34m]\u001b[0m \u001b[0;34m=\u001b[0m \u001b[0mdata\u001b[0m\u001b[0;34m[\u001b[0m\u001b[0;34m'Showers'\u001b[0m\u001b[0;34m]\u001b[0m\u001b[0;34m.\u001b[0m\u001b[0mastype\u001b[0m\u001b[0;34m(\u001b[0m\u001b[0mfloat\u001b[0m\u001b[0;34m)\u001b[0m\u001b[0;34m\u001b[0m\u001b[0;34m\u001b[0m\u001b[0m\n\u001b[1;32m      2\u001b[0m \u001b[0mdata\u001b[0m\u001b[0;34m[\u001b[0m\u001b[0;34m'Parking'\u001b[0m\u001b[0;34m]\u001b[0m \u001b[0;34m=\u001b[0m \u001b[0mdata\u001b[0m\u001b[0;34m[\u001b[0m\u001b[0;34m'Parking'\u001b[0m\u001b[0;34m]\u001b[0m\u001b[0;34m.\u001b[0m\u001b[0mastype\u001b[0m\u001b[0;34m(\u001b[0m\u001b[0mfloat\u001b[0m\u001b[0;34m)\u001b[0m\u001b[0;34m\u001b[0m\u001b[0;34m\u001b[0m\u001b[0m\n\u001b[0;32m----> 3\u001b[0;31m \u001b[0mdata\u001b[0m\u001b[0;34m[\u001b[0m\u001b[0;34m'Bedrooms'\u001b[0m\u001b[0;34m]\u001b[0m \u001b[0;34m=\u001b[0m \u001b[0mdata\u001b[0m\u001b[0;34m[\u001b[0m\u001b[0;34m'Bedrooms'\u001b[0m\u001b[0;34m]\u001b[0m\u001b[0;34m.\u001b[0m\u001b[0mastype\u001b[0m\u001b[0;34m(\u001b[0m\u001b[0mfloat\u001b[0m\u001b[0;34m)\u001b[0m\u001b[0;34m\u001b[0m\u001b[0;34m\u001b[0m\u001b[0m\n\u001b[0m\u001b[1;32m      4\u001b[0m \u001b[0;31m# NOTE that int cant be used because of some values with decimals\u001b[0m\u001b[0;34m\u001b[0m\u001b[0;34m\u001b[0m\u001b[0m\n\u001b[1;32m      5\u001b[0m \u001b[0;31m# for situations with more than 5 of these categories, + is just used.\u001b[0m\u001b[0;34m\u001b[0m\u001b[0;34m\u001b[0m\u001b[0m\n",
      "\u001b[0;32m~/opt/anaconda3/lib/python3.9/site-packages/pandas/core/generic.py\u001b[0m in \u001b[0;36mastype\u001b[0;34m(self, dtype, copy, errors)\u001b[0m\n\u001b[1;32m   5813\u001b[0m         \u001b[0;32melse\u001b[0m\u001b[0;34m:\u001b[0m\u001b[0;34m\u001b[0m\u001b[0;34m\u001b[0m\u001b[0m\n\u001b[1;32m   5814\u001b[0m             \u001b[0;31m# else, only a single dtype is given\u001b[0m\u001b[0;34m\u001b[0m\u001b[0;34m\u001b[0m\u001b[0m\n\u001b[0;32m-> 5815\u001b[0;31m             \u001b[0mnew_data\u001b[0m \u001b[0;34m=\u001b[0m \u001b[0mself\u001b[0m\u001b[0;34m.\u001b[0m\u001b[0m_mgr\u001b[0m\u001b[0;34m.\u001b[0m\u001b[0mastype\u001b[0m\u001b[0;34m(\u001b[0m\u001b[0mdtype\u001b[0m\u001b[0;34m=\u001b[0m\u001b[0mdtype\u001b[0m\u001b[0;34m,\u001b[0m \u001b[0mcopy\u001b[0m\u001b[0;34m=\u001b[0m\u001b[0mcopy\u001b[0m\u001b[0;34m,\u001b[0m \u001b[0merrors\u001b[0m\u001b[0;34m=\u001b[0m\u001b[0merrors\u001b[0m\u001b[0;34m)\u001b[0m\u001b[0;34m\u001b[0m\u001b[0;34m\u001b[0m\u001b[0m\n\u001b[0m\u001b[1;32m   5816\u001b[0m             \u001b[0;32mreturn\u001b[0m \u001b[0mself\u001b[0m\u001b[0;34m.\u001b[0m\u001b[0m_constructor\u001b[0m\u001b[0;34m(\u001b[0m\u001b[0mnew_data\u001b[0m\u001b[0;34m)\u001b[0m\u001b[0;34m.\u001b[0m\u001b[0m__finalize__\u001b[0m\u001b[0;34m(\u001b[0m\u001b[0mself\u001b[0m\u001b[0;34m,\u001b[0m \u001b[0mmethod\u001b[0m\u001b[0;34m=\u001b[0m\u001b[0;34m\"astype\"\u001b[0m\u001b[0;34m)\u001b[0m\u001b[0;34m\u001b[0m\u001b[0;34m\u001b[0m\u001b[0m\n\u001b[1;32m   5817\u001b[0m \u001b[0;34m\u001b[0m\u001b[0m\n",
      "\u001b[0;32m~/opt/anaconda3/lib/python3.9/site-packages/pandas/core/internals/managers.py\u001b[0m in \u001b[0;36mastype\u001b[0;34m(self, dtype, copy, errors)\u001b[0m\n\u001b[1;32m    416\u001b[0m \u001b[0;34m\u001b[0m\u001b[0m\n\u001b[1;32m    417\u001b[0m     \u001b[0;32mdef\u001b[0m \u001b[0mastype\u001b[0m\u001b[0;34m(\u001b[0m\u001b[0mself\u001b[0m\u001b[0;34m:\u001b[0m \u001b[0mT\u001b[0m\u001b[0;34m,\u001b[0m \u001b[0mdtype\u001b[0m\u001b[0;34m,\u001b[0m \u001b[0mcopy\u001b[0m\u001b[0;34m:\u001b[0m \u001b[0mbool\u001b[0m \u001b[0;34m=\u001b[0m \u001b[0;32mFalse\u001b[0m\u001b[0;34m,\u001b[0m \u001b[0merrors\u001b[0m\u001b[0;34m:\u001b[0m \u001b[0mstr\u001b[0m \u001b[0;34m=\u001b[0m \u001b[0;34m\"raise\"\u001b[0m\u001b[0;34m)\u001b[0m \u001b[0;34m->\u001b[0m \u001b[0mT\u001b[0m\u001b[0;34m:\u001b[0m\u001b[0;34m\u001b[0m\u001b[0;34m\u001b[0m\u001b[0m\n\u001b[0;32m--> 418\u001b[0;31m         \u001b[0;32mreturn\u001b[0m \u001b[0mself\u001b[0m\u001b[0;34m.\u001b[0m\u001b[0mapply\u001b[0m\u001b[0;34m(\u001b[0m\u001b[0;34m\"astype\"\u001b[0m\u001b[0;34m,\u001b[0m \u001b[0mdtype\u001b[0m\u001b[0;34m=\u001b[0m\u001b[0mdtype\u001b[0m\u001b[0;34m,\u001b[0m \u001b[0mcopy\u001b[0m\u001b[0;34m=\u001b[0m\u001b[0mcopy\u001b[0m\u001b[0;34m,\u001b[0m \u001b[0merrors\u001b[0m\u001b[0;34m=\u001b[0m\u001b[0merrors\u001b[0m\u001b[0;34m)\u001b[0m\u001b[0;34m\u001b[0m\u001b[0;34m\u001b[0m\u001b[0m\n\u001b[0m\u001b[1;32m    419\u001b[0m \u001b[0;34m\u001b[0m\u001b[0m\n\u001b[1;32m    420\u001b[0m     def convert(\n",
      "\u001b[0;32m~/opt/anaconda3/lib/python3.9/site-packages/pandas/core/internals/managers.py\u001b[0m in \u001b[0;36mapply\u001b[0;34m(self, f, align_keys, ignore_failures, **kwargs)\u001b[0m\n\u001b[1;32m    325\u001b[0m                     \u001b[0mapplied\u001b[0m \u001b[0;34m=\u001b[0m \u001b[0mb\u001b[0m\u001b[0;34m.\u001b[0m\u001b[0mapply\u001b[0m\u001b[0;34m(\u001b[0m\u001b[0mf\u001b[0m\u001b[0;34m,\u001b[0m \u001b[0;34m**\u001b[0m\u001b[0mkwargs\u001b[0m\u001b[0;34m)\u001b[0m\u001b[0;34m\u001b[0m\u001b[0;34m\u001b[0m\u001b[0m\n\u001b[1;32m    326\u001b[0m                 \u001b[0;32melse\u001b[0m\u001b[0;34m:\u001b[0m\u001b[0;34m\u001b[0m\u001b[0;34m\u001b[0m\u001b[0m\n\u001b[0;32m--> 327\u001b[0;31m                     \u001b[0mapplied\u001b[0m \u001b[0;34m=\u001b[0m \u001b[0mgetattr\u001b[0m\u001b[0;34m(\u001b[0m\u001b[0mb\u001b[0m\u001b[0;34m,\u001b[0m \u001b[0mf\u001b[0m\u001b[0;34m)\u001b[0m\u001b[0;34m(\u001b[0m\u001b[0;34m**\u001b[0m\u001b[0mkwargs\u001b[0m\u001b[0;34m)\u001b[0m\u001b[0;34m\u001b[0m\u001b[0;34m\u001b[0m\u001b[0m\n\u001b[0m\u001b[1;32m    328\u001b[0m             \u001b[0;32mexcept\u001b[0m \u001b[0;34m(\u001b[0m\u001b[0mTypeError\u001b[0m\u001b[0;34m,\u001b[0m \u001b[0mNotImplementedError\u001b[0m\u001b[0;34m)\u001b[0m\u001b[0;34m:\u001b[0m\u001b[0;34m\u001b[0m\u001b[0;34m\u001b[0m\u001b[0m\n\u001b[1;32m    329\u001b[0m                 \u001b[0;32mif\u001b[0m \u001b[0;32mnot\u001b[0m \u001b[0mignore_failures\u001b[0m\u001b[0;34m:\u001b[0m\u001b[0;34m\u001b[0m\u001b[0;34m\u001b[0m\u001b[0m\n",
      "\u001b[0;32m~/opt/anaconda3/lib/python3.9/site-packages/pandas/core/internals/blocks.py\u001b[0m in \u001b[0;36mastype\u001b[0;34m(self, dtype, copy, errors)\u001b[0m\n\u001b[1;32m    589\u001b[0m         \u001b[0mvalues\u001b[0m \u001b[0;34m=\u001b[0m \u001b[0mself\u001b[0m\u001b[0;34m.\u001b[0m\u001b[0mvalues\u001b[0m\u001b[0;34m\u001b[0m\u001b[0;34m\u001b[0m\u001b[0m\n\u001b[1;32m    590\u001b[0m \u001b[0;34m\u001b[0m\u001b[0m\n\u001b[0;32m--> 591\u001b[0;31m         \u001b[0mnew_values\u001b[0m \u001b[0;34m=\u001b[0m \u001b[0mastype_array_safe\u001b[0m\u001b[0;34m(\u001b[0m\u001b[0mvalues\u001b[0m\u001b[0;34m,\u001b[0m \u001b[0mdtype\u001b[0m\u001b[0;34m,\u001b[0m \u001b[0mcopy\u001b[0m\u001b[0;34m=\u001b[0m\u001b[0mcopy\u001b[0m\u001b[0;34m,\u001b[0m \u001b[0merrors\u001b[0m\u001b[0;34m=\u001b[0m\u001b[0merrors\u001b[0m\u001b[0;34m)\u001b[0m\u001b[0;34m\u001b[0m\u001b[0;34m\u001b[0m\u001b[0m\n\u001b[0m\u001b[1;32m    592\u001b[0m \u001b[0;34m\u001b[0m\u001b[0m\n\u001b[1;32m    593\u001b[0m         \u001b[0mnew_values\u001b[0m \u001b[0;34m=\u001b[0m \u001b[0mmaybe_coerce_values\u001b[0m\u001b[0;34m(\u001b[0m\u001b[0mnew_values\u001b[0m\u001b[0;34m)\u001b[0m\u001b[0;34m\u001b[0m\u001b[0;34m\u001b[0m\u001b[0m\n",
      "\u001b[0;32m~/opt/anaconda3/lib/python3.9/site-packages/pandas/core/dtypes/cast.py\u001b[0m in \u001b[0;36mastype_array_safe\u001b[0;34m(values, dtype, copy, errors)\u001b[0m\n\u001b[1;32m   1307\u001b[0m \u001b[0;34m\u001b[0m\u001b[0m\n\u001b[1;32m   1308\u001b[0m     \u001b[0;32mtry\u001b[0m\u001b[0;34m:\u001b[0m\u001b[0;34m\u001b[0m\u001b[0;34m\u001b[0m\u001b[0m\n\u001b[0;32m-> 1309\u001b[0;31m         \u001b[0mnew_values\u001b[0m \u001b[0;34m=\u001b[0m \u001b[0mastype_array\u001b[0m\u001b[0;34m(\u001b[0m\u001b[0mvalues\u001b[0m\u001b[0;34m,\u001b[0m \u001b[0mdtype\u001b[0m\u001b[0;34m,\u001b[0m \u001b[0mcopy\u001b[0m\u001b[0;34m=\u001b[0m\u001b[0mcopy\u001b[0m\u001b[0;34m)\u001b[0m\u001b[0;34m\u001b[0m\u001b[0;34m\u001b[0m\u001b[0m\n\u001b[0m\u001b[1;32m   1310\u001b[0m     \u001b[0;32mexcept\u001b[0m \u001b[0;34m(\u001b[0m\u001b[0mValueError\u001b[0m\u001b[0;34m,\u001b[0m \u001b[0mTypeError\u001b[0m\u001b[0;34m)\u001b[0m\u001b[0;34m:\u001b[0m\u001b[0;34m\u001b[0m\u001b[0;34m\u001b[0m\u001b[0m\n\u001b[1;32m   1311\u001b[0m         \u001b[0;31m# e.g. astype_nansafe can fail on object-dtype of strings\u001b[0m\u001b[0;34m\u001b[0m\u001b[0;34m\u001b[0m\u001b[0m\n",
      "\u001b[0;32m~/opt/anaconda3/lib/python3.9/site-packages/pandas/core/dtypes/cast.py\u001b[0m in \u001b[0;36mastype_array\u001b[0;34m(values, dtype, copy)\u001b[0m\n\u001b[1;32m   1255\u001b[0m \u001b[0;34m\u001b[0m\u001b[0m\n\u001b[1;32m   1256\u001b[0m     \u001b[0;32melse\u001b[0m\u001b[0;34m:\u001b[0m\u001b[0;34m\u001b[0m\u001b[0;34m\u001b[0m\u001b[0m\n\u001b[0;32m-> 1257\u001b[0;31m         \u001b[0mvalues\u001b[0m \u001b[0;34m=\u001b[0m \u001b[0mastype_nansafe\u001b[0m\u001b[0;34m(\u001b[0m\u001b[0mvalues\u001b[0m\u001b[0;34m,\u001b[0m \u001b[0mdtype\u001b[0m\u001b[0;34m,\u001b[0m \u001b[0mcopy\u001b[0m\u001b[0;34m=\u001b[0m\u001b[0mcopy\u001b[0m\u001b[0;34m)\u001b[0m\u001b[0;34m\u001b[0m\u001b[0;34m\u001b[0m\u001b[0m\n\u001b[0m\u001b[1;32m   1258\u001b[0m \u001b[0;34m\u001b[0m\u001b[0m\n\u001b[1;32m   1259\u001b[0m     \u001b[0;31m# in pandas we don't store numpy str dtypes, so convert to object\u001b[0m\u001b[0;34m\u001b[0m\u001b[0;34m\u001b[0m\u001b[0m\n",
      "\u001b[0;32m~/opt/anaconda3/lib/python3.9/site-packages/pandas/core/dtypes/cast.py\u001b[0m in \u001b[0;36mastype_nansafe\u001b[0;34m(arr, dtype, copy, skipna)\u001b[0m\n\u001b[1;32m   1199\u001b[0m     \u001b[0;32mif\u001b[0m \u001b[0mcopy\u001b[0m \u001b[0;32mor\u001b[0m \u001b[0mis_object_dtype\u001b[0m\u001b[0;34m(\u001b[0m\u001b[0marr\u001b[0m\u001b[0;34m.\u001b[0m\u001b[0mdtype\u001b[0m\u001b[0;34m)\u001b[0m \u001b[0;32mor\u001b[0m \u001b[0mis_object_dtype\u001b[0m\u001b[0;34m(\u001b[0m\u001b[0mdtype\u001b[0m\u001b[0;34m)\u001b[0m\u001b[0;34m:\u001b[0m\u001b[0;34m\u001b[0m\u001b[0;34m\u001b[0m\u001b[0m\n\u001b[1;32m   1200\u001b[0m         \u001b[0;31m# Explicit copy, or required since NumPy can't view from / to object.\u001b[0m\u001b[0;34m\u001b[0m\u001b[0;34m\u001b[0m\u001b[0m\n\u001b[0;32m-> 1201\u001b[0;31m         \u001b[0;32mreturn\u001b[0m \u001b[0marr\u001b[0m\u001b[0;34m.\u001b[0m\u001b[0mastype\u001b[0m\u001b[0;34m(\u001b[0m\u001b[0mdtype\u001b[0m\u001b[0;34m,\u001b[0m \u001b[0mcopy\u001b[0m\u001b[0;34m=\u001b[0m\u001b[0;32mTrue\u001b[0m\u001b[0;34m)\u001b[0m\u001b[0;34m\u001b[0m\u001b[0;34m\u001b[0m\u001b[0m\n\u001b[0m\u001b[1;32m   1202\u001b[0m \u001b[0;34m\u001b[0m\u001b[0m\n\u001b[1;32m   1203\u001b[0m     \u001b[0;32mreturn\u001b[0m \u001b[0marr\u001b[0m\u001b[0;34m.\u001b[0m\u001b[0mastype\u001b[0m\u001b[0;34m(\u001b[0m\u001b[0mdtype\u001b[0m\u001b[0;34m,\u001b[0m \u001b[0mcopy\u001b[0m\u001b[0;34m=\u001b[0m\u001b[0mcopy\u001b[0m\u001b[0;34m)\u001b[0m\u001b[0;34m\u001b[0m\u001b[0;34m\u001b[0m\u001b[0m\n",
      "\u001b[0;31mValueError\u001b[0m: could not convert string to float: 'Studio'"
     ]
    }
   ],
   "source": [
    "data['Showers'] = data['Showers'].astype(float)\n",
    "data['Parking'] = data['Parking'].astype(float)\n",
    "data['Bedrooms'] = data['Bedrooms'].astype(float)\n",
    "# NOTE that int cant be used because of some values with decimals\n",
    "# for situations with more than 5 of these categories, + is just used. \n",
    "# So it was removed in the code above to make it into a float\n",
    "# please check error mssg"
   ]
  },
  {
   "cell_type": "code",
   "execution_count": 48,
   "id": "eeae3dd3",
   "metadata": {},
   "outputs": [],
   "source": [
    "# converting unfurnished and furnished to boolean\n",
    "data['Furnish'] = data['Furnish'].replace({'Unfurnished':0,'Furnished':1,'Semi-furnished':2})\n",
    "data['Furnish'] = data['Furnish'].astype(int)"
   ]
  },
  {
   "cell_type": "code",
   "execution_count": 49,
   "id": "2e8b7553",
   "metadata": {},
   "outputs": [
    {
     "data": {
      "text/plain": [
       "Name                object\n",
       "Address             object\n",
       "Author              object\n",
       "Price                int64\n",
       "Bedrooms           float64\n",
       "Showers            float64\n",
       "Parking            float64\n",
       "Furnish              int64\n",
       "Total Developed      int64\n",
       "Lot Area             int64\n",
       "Features            object\n",
       "Facilities          object\n",
       "Nearby Places       object\n",
       "URL                 object\n",
       "Timestamp           object\n",
       "dtype: object"
      ]
     },
     "execution_count": 49,
     "metadata": {},
     "output_type": "execute_result"
    }
   ],
   "source": [
    "data.dtypes"
   ]
  },
  {
   "cell_type": "code",
   "execution_count": 50,
   "id": "d7828901",
   "metadata": {},
   "outputs": [
    {
     "data": {
      "text/html": [
       "<div>\n",
       "<style scoped>\n",
       "    .dataframe tbody tr th:only-of-type {\n",
       "        vertical-align: middle;\n",
       "    }\n",
       "\n",
       "    .dataframe tbody tr th {\n",
       "        vertical-align: top;\n",
       "    }\n",
       "\n",
       "    .dataframe thead th {\n",
       "        text-align: right;\n",
       "    }\n",
       "</style>\n",
       "<table border=\"1\" class=\"dataframe\">\n",
       "  <thead>\n",
       "    <tr style=\"text-align: right;\">\n",
       "      <th></th>\n",
       "      <th>Name</th>\n",
       "      <th>Address</th>\n",
       "      <th>Author</th>\n",
       "      <th>Price</th>\n",
       "      <th>Bedrooms</th>\n",
       "      <th>Showers</th>\n",
       "      <th>Parking</th>\n",
       "      <th>Furnish</th>\n",
       "      <th>Total Developed</th>\n",
       "      <th>Lot Area</th>\n",
       "      <th>Features</th>\n",
       "      <th>Facilities</th>\n",
       "      <th>Nearby Places</th>\n",
       "      <th>URL</th>\n",
       "      <th>Timestamp</th>\n",
       "    </tr>\n",
       "  </thead>\n",
       "  <tbody>\n",
       "    <tr>\n",
       "      <th>0</th>\n",
       "      <td>3 Bedroom Condo in Aurelia Residences, Taguig</td>\n",
       "      <td>McKinley Parkway, Taguig, Metro Manila</td>\n",
       "      <td>Shang Properties</td>\n",
       "      <td>107300000</td>\n",
       "      <td>4.0</td>\n",
       "      <td>4.0</td>\n",
       "      <td>4.0</td>\n",
       "      <td>0</td>\n",
       "      <td>242</td>\n",
       "      <td>0</td>\n",
       "      <td>[Central air conditioning, Balcony, Built-in w...</td>\n",
       "      <td>[Security, CCTV, Entertainment Area, Fitness C...</td>\n",
       "      <td>[School, Hospital, Mall, Transportation hub]</td>\n",
       "      <td>https://propertyaccess.ph/property/3-bedroom-c...</td>\n",
       "      <td>2022-09-27</td>\n",
       "    </tr>\n",
       "    <tr>\n",
       "      <th>1</th>\n",
       "      <td>3 Bedroom Condo in Shang Residences at Wack Wa...</td>\n",
       "      <td>Wack Wack Road, Mandaluyong, Metro Manila</td>\n",
       "      <td>Shang Properties</td>\n",
       "      <td>54500000</td>\n",
       "      <td>4.0</td>\n",
       "      <td>4.0</td>\n",
       "      <td>4.0</td>\n",
       "      <td>0</td>\n",
       "      <td>231</td>\n",
       "      <td>0</td>\n",
       "      <td>[Central air conditioning, Balcony, Built-in w...</td>\n",
       "      <td>[Security, CCTV, Club House, Entertainment Are...</td>\n",
       "      <td>[School, Hospital, Mall, Transportation hub]</td>\n",
       "      <td>https://propertyaccess.ph/property/3-bedroom-c...</td>\n",
       "      <td>2022-09-27</td>\n",
       "    </tr>\n",
       "    <tr>\n",
       "      <th>2</th>\n",
       "      <td>2BR Condo in Residences at The Galleon, Pasig</td>\n",
       "      <td></td>\n",
       "      <td>Ortigas Land</td>\n",
       "      <td>41500000</td>\n",
       "      <td>2.0</td>\n",
       "      <td>2.0</td>\n",
       "      <td>2.0</td>\n",
       "      <td>0</td>\n",
       "      <td>109</td>\n",
       "      <td>0</td>\n",
       "      <td>[Central air conditioning, Balcony, Built-in w...</td>\n",
       "      <td>[Security, CCTV, Clubhouse, Connected to mall,...</td>\n",
       "      <td>[School, Hospital, Mall, Transportation hub]</td>\n",
       "      <td>https://propertyaccess.ph/property/2br-condo-i...</td>\n",
       "      <td>2022-09-27</td>\n",
       "    </tr>\n",
       "    <tr>\n",
       "      <th>3</th>\n",
       "      <td>Penthouse in Residences at The Galleon, Pasig</td>\n",
       "      <td>ADB Avenue, Pasig, Metro Manila</td>\n",
       "      <td>Ortigas Land</td>\n",
       "      <td>111500000</td>\n",
       "      <td>4.0</td>\n",
       "      <td>4.0</td>\n",
       "      <td>4.0</td>\n",
       "      <td>0</td>\n",
       "      <td>268</td>\n",
       "      <td>0</td>\n",
       "      <td>[Central air conditioning, Balcony, Built-in w...</td>\n",
       "      <td>[Security, CCTV, Clubhouse, Connected to mall,...</td>\n",
       "      <td>[School, Hospital, Mall, Transportation hub]</td>\n",
       "      <td>https://propertyaccess.ph/property/penthouse-i...</td>\n",
       "      <td>2022-09-27</td>\n",
       "    </tr>\n",
       "    <tr>\n",
       "      <th>4</th>\n",
       "      <td>3 Bedroom Condo in Aurelia Residences, Taguig</td>\n",
       "      <td>McKinley Parkway, Taguig, Metro Manila</td>\n",
       "      <td>Shang Properties</td>\n",
       "      <td>181302240</td>\n",
       "      <td>4.0</td>\n",
       "      <td>4.0</td>\n",
       "      <td>4.0</td>\n",
       "      <td>0</td>\n",
       "      <td>337</td>\n",
       "      <td>0</td>\n",
       "      <td>[Central air conditioning]</td>\n",
       "      <td>[Security, CCTV, Entertainment Area, Fitness C...</td>\n",
       "      <td>[School, Hospital, Mall, Transportation hub]</td>\n",
       "      <td>https://propertyaccess.ph/property/3-bedroom-c...</td>\n",
       "      <td>2022-09-27</td>\n",
       "    </tr>\n",
       "  </tbody>\n",
       "</table>\n",
       "</div>"
      ],
      "text/plain": [
       "                                                Name  \\\n",
       "0      3 Bedroom Condo in Aurelia Residences, Taguig   \n",
       "1  3 Bedroom Condo in Shang Residences at Wack Wa...   \n",
       "2      2BR Condo in Residences at The Galleon, Pasig   \n",
       "3      Penthouse in Residences at The Galleon, Pasig   \n",
       "4      3 Bedroom Condo in Aurelia Residences, Taguig   \n",
       "\n",
       "                                     Address            Author      Price  \\\n",
       "0     McKinley Parkway, Taguig, Metro Manila  Shang Properties  107300000   \n",
       "1  Wack Wack Road, Mandaluyong, Metro Manila  Shang Properties   54500000   \n",
       "2                                                 Ortigas Land   41500000   \n",
       "3            ADB Avenue, Pasig, Metro Manila      Ortigas Land  111500000   \n",
       "4     McKinley Parkway, Taguig, Metro Manila  Shang Properties  181302240   \n",
       "\n",
       "   Bedrooms  Showers  Parking  Furnish  Total Developed  Lot Area  \\\n",
       "0       4.0      4.0      4.0        0              242         0   \n",
       "1       4.0      4.0      4.0        0              231         0   \n",
       "2       2.0      2.0      2.0        0              109         0   \n",
       "3       4.0      4.0      4.0        0              268         0   \n",
       "4       4.0      4.0      4.0        0              337         0   \n",
       "\n",
       "                                            Features  \\\n",
       "0  [Central air conditioning, Balcony, Built-in w...   \n",
       "1  [Central air conditioning, Balcony, Built-in w...   \n",
       "2  [Central air conditioning, Balcony, Built-in w...   \n",
       "3  [Central air conditioning, Balcony, Built-in w...   \n",
       "4                         [Central air conditioning]   \n",
       "\n",
       "                                          Facilities  \\\n",
       "0  [Security, CCTV, Entertainment Area, Fitness C...   \n",
       "1  [Security, CCTV, Club House, Entertainment Are...   \n",
       "2  [Security, CCTV, Clubhouse, Connected to mall,...   \n",
       "3  [Security, CCTV, Clubhouse, Connected to mall,...   \n",
       "4  [Security, CCTV, Entertainment Area, Fitness C...   \n",
       "\n",
       "                                  Nearby Places  \\\n",
       "0  [School, Hospital, Mall, Transportation hub]   \n",
       "1  [School, Hospital, Mall, Transportation hub]   \n",
       "2  [School, Hospital, Mall, Transportation hub]   \n",
       "3  [School, Hospital, Mall, Transportation hub]   \n",
       "4  [School, Hospital, Mall, Transportation hub]   \n",
       "\n",
       "                                                 URL   Timestamp  \n",
       "0  https://propertyaccess.ph/property/3-bedroom-c...  2022-09-27  \n",
       "1  https://propertyaccess.ph/property/3-bedroom-c...  2022-09-27  \n",
       "2  https://propertyaccess.ph/property/2br-condo-i...  2022-09-27  \n",
       "3  https://propertyaccess.ph/property/penthouse-i...  2022-09-27  \n",
       "4  https://propertyaccess.ph/property/3-bedroom-c...  2022-09-27  "
      ]
     },
     "execution_count": 50,
     "metadata": {},
     "output_type": "execute_result"
    }
   ],
   "source": [
    "data.head()"
   ]
  },
  {
   "cell_type": "code",
   "execution_count": 51,
   "id": "84fb4a6e",
   "metadata": {},
   "outputs": [],
   "source": [
    "data.to_json('cleaned data.json',orient='columns')"
   ]
  },
  {
   "cell_type": "markdown",
   "id": "0356673a",
   "metadata": {},
   "source": [
    "## Challenges\n",
    "- Having to go to each page in order to get the necessary data (takes longer time)\n",
    "- showers, parking, and bedrooms have values with 0.5 increments and for those with more than 5, it's just placed as 5+"
   ]
  },
  {
   "cell_type": "markdown",
   "id": "c5021ec2",
   "metadata": {},
   "source": [
    "## Conclusion\n",
    "- [Does it have personal identifiable information?]\n",
    "- "
   ]
  },
  {
   "cell_type": "code",
   "execution_count": null,
   "id": "18c383fa",
   "metadata": {},
   "outputs": [],
   "source": []
  }
 ],
 "metadata": {
  "kernelspec": {
   "display_name": "Python 3 (ipykernel)",
   "language": "python",
   "name": "python3"
  },
  "language_info": {
   "codemirror_mode": {
    "name": "ipython",
    "version": 3
   },
   "file_extension": ".py",
   "mimetype": "text/x-python",
   "name": "python",
   "nbconvert_exporter": "python",
   "pygments_lexer": "ipython3",
   "version": "3.9.7"
  },
  "toc": {
   "base_numbering": 1,
   "nav_menu": {},
   "number_sections": true,
   "sideBar": true,
   "skip_h1_title": false,
   "title_cell": "Table of Contents",
   "title_sidebar": "Contents",
   "toc_cell": false,
   "toc_position": {},
   "toc_section_display": true,
   "toc_window_display": false
  }
 },
 "nbformat": 4,
 "nbformat_minor": 5
}
