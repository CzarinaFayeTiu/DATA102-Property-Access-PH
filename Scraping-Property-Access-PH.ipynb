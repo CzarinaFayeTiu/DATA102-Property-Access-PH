{
 "cells": [
  {
   "cell_type": "markdown",
   "id": "e7c3f62b",
   "metadata": {},
   "source": [
    "## Scraping Property Access PH through Selenium\n",
    "This notebook was prepared by Adem Inovejas, Christopher Lim, Czarina Tiu, and Uriel Grace Magtibay (students of DATA102 S11 Y2022-2023).  \n",
    "\n",
    "In your notebook, make sure you have the following details outlined:\n",
    "- The website scraped\n",
    "- Date and time when the data was collected\n",
    "- What were the challenges encountered? You may narrate or illustrate this in the notebook.\n",
    "- Do you think the collected data contains any personally identifiable information (PII)?\n",
    "- Conclude with your key learnings and findings."
   ]
  },
  {
   "cell_type": "markdown",
   "id": "bdad89e3",
   "metadata": {},
   "source": [
    "## Importing Libaries"
   ]
  },
  {
   "cell_type": "code",
   "execution_count": 1,
   "id": "bebebb27",
   "metadata": {
    "ExecuteTime": {
     "end_time": "2022-10-17T09:32:49.366136Z",
     "start_time": "2022-10-17T09:32:48.801905Z"
    }
   },
   "outputs": [],
   "source": [
    "from bs4 import BeautifulSoup\n",
    "import pandas as pd\n",
    "import os\n",
    "import datetime\n",
    "import time\n",
    "\n",
    "from selenium import webdriver\n",
    "from selenium.webdriver.common.keys import Keys\n",
    "from selenium.webdriver.chrome.service import Service\n",
    "from webdriver_manager.chrome import ChromeDriverManager"
   ]
  },
  {
   "cell_type": "markdown",
   "id": "aaee5251",
   "metadata": {},
   "source": [
    "## Setup"
   ]
  },
  {
   "cell_type": "code",
   "execution_count": 2,
   "id": "ff91d067",
   "metadata": {
    "ExecuteTime": {
     "end_time": "2022-10-17T09:32:51.561222Z",
     "start_time": "2022-10-17T09:32:49.367141Z"
    }
   },
   "outputs": [],
   "source": [
    "driver = webdriver.Chrome(service=Service(ChromeDriverManager().install()))"
   ]
  },
  {
   "cell_type": "code",
   "execution_count": 3,
   "id": "69c29000",
   "metadata": {
    "ExecuteTime": {
     "end_time": "2022-10-17T09:32:53.733964Z",
     "start_time": "2022-10-17T09:32:51.562257Z"
    }
   },
   "outputs": [],
   "source": [
    "url = \"https://propertyaccess.ph/offer/sale\"\n",
    "driver.get(url)"
   ]
  },
  {
   "cell_type": "markdown",
   "id": "beface6f",
   "metadata": {},
   "source": [
    "## Data Collection"
   ]
  },
  {
   "cell_type": "markdown",
   "id": "4cccf569",
   "metadata": {},
   "source": [
    "### Collecting  the URLs of each properties"
   ]
  },
  {
   "cell_type": "code",
   "execution_count": null,
   "id": "f01978e1",
   "metadata": {
    "ExecuteTime": {
     "start_time": "2022-10-17T09:32:49.002Z"
    },
    "scrolled": true
   },
   "outputs": [
    {
     "name": "stdout",
     "output_type": "stream",
     "text": [
      "Extracted Page 1 | 20 items found | 0.57s\n"
     ]
    }
   ],
   "source": [
    "has_pages = True\n",
    "pages = 1\n",
    "urls = []\n",
    "total_time = 0\n",
    "while(has_pages):  \n",
    "    start = time.perf_counter()\n",
    "    \n",
    "    products_container = driver.find_element(by=\"xpath\", value='//div[@class=\"list-product page-content\"]')\n",
    "    \n",
    "    # gets the list of products\n",
    "    items = products_container.find_elements(by=\"xpath\", value='.//div[@class=\"product-wrapper\"]')\n",
    "    for item in items:\n",
    "        # get the href of the anchor of \"product-img\"\n",
    "        url = item.find_element(by=\"xpath\", value='.//div[@class=\"product-img\"]/a').get_attribute('href')\n",
    "        date_published = item.find_element(by=\"xpath\", value='.//div[@class=\"date\"]').text\n",
    "        urls.append((url, date_published))\n",
    "    \n",
    "    end = time.perf_counter()\n",
    "    \n",
    "    total_time += end - start\n",
    "    print('Extracted Page %d | %d items found | %.2fs' % (pages, len(items), end - start))\n",
    "    try:\n",
    "        # checks if next page button is available by getting the xpath\n",
    "        next_page = driver.find_element(\"xpath\", value='//ul[@class=\"pargination\"]/li[@class=\"next flex-end\"]/a').get_attribute(\"href\");\n",
    "        driver.get(next_page)\n",
    "        pages += 1\n",
    "    except:\n",
    "        # if next page button is not available, stop the loop\n",
    "        has_pages = False\n",
    "\n",
    "print('Number of pages:', pages)\n",
    "print('Number of products:', len(urls))\n",
    "print('Average Time per page:', total_time / len(urls))\n",
    "print('Total Time:', total_time)"
   ]
  },
  {
   "cell_type": "markdown",
   "id": "e221c5fc",
   "metadata": {},
   "source": [
    "Exporting the URLs through pandas dataframe (as .csv)"
   ]
  },
  {
   "cell_type": "code",
   "execution_count": null,
   "id": "87eec032",
   "metadata": {
    "ExecuteTime": {
     "start_time": "2022-10-17T09:32:49.063Z"
    }
   },
   "outputs": [],
   "source": [
    "df = pd.DataFrame(urls, columns=['URL', 'Date Published'])\n",
    "df.head()"
   ]
  },
  {
   "cell_type": "code",
   "execution_count": null,
   "id": "74ea7b09",
   "metadata": {
    "ExecuteTime": {
     "start_time": "2022-10-17T09:32:49.094Z"
    }
   },
   "outputs": [],
   "source": [
    "df.to_csv('property_urls.csv', index=False)"
   ]
  },
  {
   "cell_type": "markdown",
   "id": "194a8107",
   "metadata": {},
   "source": [
    "### Going through each property page to get the details"
   ]
  },
  {
   "cell_type": "code",
   "execution_count": null,
   "id": "75b70a3c",
   "metadata": {
    "ExecuteTime": {
     "start_time": "2022-10-17T09:32:49.172Z"
    }
   },
   "outputs": [],
   "source": [
    "df = pd.read_csv('property_urls.csv')\n",
    "df.head()"
   ]
  },
  {
   "cell_type": "code",
   "execution_count": null,
   "id": "6f2f5dbd",
   "metadata": {
    "ExecuteTime": {
     "start_time": "2022-10-17T09:32:49.202Z"
    },
    "scrolled": true
   },
   "outputs": [],
   "source": [
    "data = []\n",
    "total_time = 0\n",
    "for i, item in enumerate(list(zip(df['URL'], df['Date Published']))):\n",
    "    try:\n",
    "        start = time.perf_counter()\n",
    "        url, date_published = item\n",
    "        driver.get(url)\n",
    "\n",
    "        # get the container which contains the property details\n",
    "        property_details = driver.find_element(by=\"xpath\", value='//div[@class=\"product-detail-wraper\"]')\n",
    "\n",
    "        # find the name\n",
    "        name = property_details.find_element(by=\"xpath\", value='.//h1[@class=\"basic-info__name\"]').text\n",
    "        address = property_details.find_element(by=\"xpath\", value='.//div[@class=\"basic-info__street\"]').text\n",
    "        price = property_details.find_element(by=\"xpath\", value='.//div[@class=\"basic-info__price\"]').text\n",
    "        author = property_details.find_element(by=\"xpath\", value='.//div[@class=\"agent-name line-clamp lc-2\"]').text\n",
    "\n",
    "        # get the bedrooms, showers, parking, furnish type, total developed and lot area through utility info\n",
    "        utility_info = property_details.find_element(by=\"xpath\", value='.//div[@class=\"basic-info__utilities\"]')\n",
    "\n",
    "        try:\n",
    "            bedrooms = utility_info.find_element(by=\"xpath\", value='//img[@data-src=\"https://cdn.propertyaccess.ph/prod/v1.2.5-fis-hotfix-2/f24d0f0d48276caeca2060fd60abf269.svg\"]/..').text\n",
    "        except:\n",
    "            bedrooms = None\n",
    "\n",
    "        try:\n",
    "            showers = utility_info.find_element(by=\"xpath\", value='//img[@data-src=\"https://cdn.propertyaccess.ph/prod/v1.2.5-fis-hotfix-2/a6e500c94a1eaacdd59fde045fba89f0.svg\"]/..').text\n",
    "        except:\n",
    "            showers = None\n",
    "\n",
    "        try:\n",
    "            furnish = utility_info.find_element(by=\"xpath\", value='//img[@data-src=\"https://cdn.propertyaccess.ph/prod/v1.2.5-fis-hotfix-2/9fb04d2eb34997da34e3dcfd140f51b6.svg\"]/..').text\n",
    "        except:\n",
    "            furnish = None\n",
    "\n",
    "        try:\n",
    "            parking = utility_info.find_element(by=\"xpath\", value='//img[@data-src=\"https://cdn.propertyaccess.ph/prod/v1.2.5-fis-hotfix-2/33d487e03cfed78b821458ab3c39b574.svg\"]/..').text\n",
    "        except:\n",
    "            parking = None\n",
    "\n",
    "        try:\n",
    "            total_developed = utility_info.find_element(by=\"xpath\", value='//img[@data-src=\"https://cdn.propertyaccess.ph/prod/v1.2.5-fis-hotfix-2/57cebe2c8bcb0aa7f604503ddb740621.svg\"]/..').text\n",
    "        except:\n",
    "            total_developed = None\n",
    "\n",
    "        try:\n",
    "            lot_area = utility_info.find_element(by=\"xpath\", value='//img[@data-src=\"https://cdn.propertyaccess.ph/prod/v1.2.5-fis-hotfix-2/da2ffe9d4238be9a3d697b4195b64fe7.svg\"]/..').text\n",
    "        except:\n",
    "            lot_area = None\n",
    "\n",
    "        # if section title is Property Features or Amenities\n",
    "        features = [feature.text for feature in property_details.find_elements(by=\"xpath\", value='.//section[@class=\"product-feature\"]//div[text()=\"Property Features\" or text()=\"Amenities\"]/..//div[@class=\"item-listing readmore-target\"]//p')]\n",
    "\n",
    "        # if section title is Facilities\n",
    "        facilities = [facility.text for facility in property_details.find_elements(by=\"xpath\", value='.//section[@class=\"product-feature\"]//div[text()=\"Facilities\"]/..//div[@class=\"item-listing readmore-target\"]//p')]\n",
    "\n",
    "        # if section title is Nearby Places\n",
    "        nearby_places = [place.text for place in property_details.find_elements(by=\"xpath\", value='.//section[@class=\"product-nearby\"]//div[@class=\"item-title\"]')]\n",
    "\n",
    "        timestamp = datetime.datetime.now().strftime(\"%Y-%m-%d %H:%M:%S\")\n",
    "        \n",
    "        end = time.perf_counter()\n",
    "\n",
    "        total_time += end - start\n",
    "        \n",
    "        print('[%4d] %s | %.2fs' % (i, name, end - start))\n",
    "\n",
    "        data.append((name, address, author, price, bedrooms, showers, parking, furnish, total_developed, lot_area, features, facilities, nearby_places, url, timestamp))\n",
    "    except:\n",
    "        # if page is un-available\n",
    "        print('Error occured on', url)"
   ]
  },
  {
   "cell_type": "code",
   "execution_count": null,
   "id": "167433e3",
   "metadata": {
    "ExecuteTime": {
     "start_time": "2022-10-17T09:32:49.264Z"
    }
   },
   "outputs": [],
   "source": [
    "column_names = ['Name', 'Address', 'Author', 'Price', 'Bedrooms', 'Showers', 'Parking', 'Furnish', 'Total Developed', 'Lot Area', 'Features', 'Facilities', 'Nearby Places', 'URL', 'Timestamp']\n",
    "df = pd.DataFrame(data, columns = column_names)\n",
    "df.head()"
   ]
  },
  {
   "cell_type": "code",
   "execution_count": null,
   "id": "0773d25a",
   "metadata": {
    "ExecuteTime": {
     "start_time": "2022-10-17T09:32:49.294Z"
    }
   },
   "outputs": [],
   "source": [
    "df.describe()"
   ]
  },
  {
   "cell_type": "code",
   "execution_count": null,
   "id": "d06e7abf",
   "metadata": {
    "ExecuteTime": {
     "start_time": "2022-10-17T09:32:50.024Z"
    }
   },
   "outputs": [],
   "source": [
    "df.to_json('unclean.json', orient='records', indent=2)"
   ]
  },
  {
   "cell_type": "code",
   "execution_count": 17,
   "id": "fabc0fff",
   "metadata": {
    "ExecuteTime": {
     "end_time": "2022-09-26T17:01:33.788962Z",
     "start_time": "2022-09-26T17:01:33.416551Z"
    }
   },
   "outputs": [],
   "source": [
    "driver.close()"
   ]
  },
  {
   "cell_type": "markdown",
   "id": "1a0981b6",
   "metadata": {},
   "source": [
    "## Data Cleaning"
   ]
  },
  {
   "cell_type": "code",
   "execution_count": null,
   "id": "380ae0ce",
   "metadata": {},
   "outputs": [],
   "source": []
  },
  {
   "cell_type": "markdown",
   "id": "0356673a",
   "metadata": {},
   "source": [
    "## Challenges\n",
    "- Having to go to each page in order to get the necessary data (takes longer time)\n",
    "- "
   ]
  },
  {
   "cell_type": "markdown",
   "id": "c5021ec2",
   "metadata": {},
   "source": [
    "## Conclusion\n",
    "- [Does it have personal identifiable information?]\n",
    "- "
   ]
  },
  {
   "cell_type": "code",
   "execution_count": null,
   "id": "18c383fa",
   "metadata": {},
   "outputs": [],
   "source": []
  }
 ],
 "metadata": {
  "kernelspec": {
   "display_name": "Python 3 (ipykernel)",
   "language": "python",
   "name": "python3"
  },
  "language_info": {
   "codemirror_mode": {
    "name": "ipython",
    "version": 3
   },
   "file_extension": ".py",
   "mimetype": "text/x-python",
   "name": "python",
   "nbconvert_exporter": "python",
   "pygments_lexer": "ipython3",
   "version": "3.8.8"
  },
  "toc": {
   "base_numbering": 1,
   "nav_menu": {},
   "number_sections": true,
   "sideBar": true,
   "skip_h1_title": false,
   "title_cell": "Table of Contents",
   "title_sidebar": "Contents",
   "toc_cell": false,
   "toc_position": {},
   "toc_section_display": true,
   "toc_window_display": false
  }
 },
 "nbformat": 4,
 "nbformat_minor": 5
}
