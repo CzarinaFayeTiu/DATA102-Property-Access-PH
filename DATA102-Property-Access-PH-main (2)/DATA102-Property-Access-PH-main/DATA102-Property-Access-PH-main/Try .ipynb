{
 "cells": [
  {
   "cell_type": "code",
   "execution_count": null,
   "id": "8b769e19",
   "metadata": {},
   "outputs": [],
   "source": [
    "from bs4 import BeautifulSoup\n",
    "import pandas as pd\n",
    "import os\n",
    "import datetime\n",
    "import time\n",
    "import numpy as np"
   ]
  },
  {
   "cell_type": "code",
   "execution_count": null,
   "id": "5cacc2bd",
   "metadata": {},
   "outputs": [],
   "source": [
    "data = pd.read_json('cleaned data.json')\n",
    "data"
   ]
  },
  {
   "cell_type": "code",
   "execution_count": null,
   "id": "8d85a551",
   "metadata": {},
   "outputs": [],
   "source": [
    "f = data['Features']\n",
    "unique_list = []\n",
    "for x in f: \n",
    "    for i in x:\n",
    "        if i not in unique_list:\n",
    "            unique_list.append(i)\n",
    "            \n",
    "unique_list\n",
    "\n"
   ]
  },
  {
   "cell_type": "code",
   "execution_count": null,
   "id": "75060f73",
   "metadata": {},
   "outputs": [],
   "source": [
    "data_features = data\n",
    "\n",
    "for i in unique_list:\n",
    "    data_features.insert(loc=9,\n",
    "    column=i,\n",
    "    value = 0)\n",
    "    "
   ]
  },
  {
   "cell_type": "code",
   "execution_count": null,
   "id": "4ba87094",
   "metadata": {},
   "outputs": [],
   "source": [
    "data_features"
   ]
  },
  {
   "cell_type": "code",
   "execution_count": null,
   "id": "415441a3",
   "metadata": {},
   "outputs": [],
   "source": [
    "col = data_features['Features']\n",
    "for arr in col:\n",
    "    for idx, arr in enumerate(col):\n",
    "        #print(idx, arr)\n",
    "        for x[idx] in arr:\n",
    "            print(idx + \" \" + x)"
   ]
  },
  {
   "cell_type": "code",
   "execution_count": null,
   "id": "7dcba134",
   "metadata": {},
   "outputs": [],
   "source": []
  }
 ],
 "metadata": {
  "kernelspec": {
   "display_name": "Python 3 (ipykernel)",
   "language": "python",
   "name": "python3"
  },
  "language_info": {
   "codemirror_mode": {
    "name": "ipython",
    "version": 3
   },
   "file_extension": ".py",
   "mimetype": "text/x-python",
   "name": "python",
   "nbconvert_exporter": "python",
   "pygments_lexer": "ipython3",
   "version": "3.9.7"
  }
 },
 "nbformat": 4,
 "nbformat_minor": 5
}
